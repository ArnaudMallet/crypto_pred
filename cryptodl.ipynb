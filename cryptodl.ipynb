{
 "cells": [
  {
   "cell_type": "markdown",
   "id": "3150b862",
   "metadata": {},
   "source": [
    "# This dataset contains information on historic trades for several cryptoassets, such as Bitcoin and Ethereum. Your challenge is to predict their future returns.\n",
    "\n",
    "As historic cryptocurrency prices are not confidential this will be a forecasting competition using the time series API. Furthermore the public leaderboard targets are publicly available and are provided as part of the competition dataset. Expect to see many people submitting perfect submissions for fun. Accordingly, THE PUBLIC LEADERBOARD FOR THIS COMPETITION IS NOT MEANINGFUL and is only provided as a convenience for anyone who wants to test their code. The final private leaderboard will be determined using real market data gathered after the submission period closes."
   ]
  },
  {
   "cell_type": "markdown",
   "id": "4aa437ab",
   "metadata": {},
   "source": [
    "train.csv - The training set\n",
    "\n",
    "- timestamp - A timestamp for the minute covered by the row.\n",
    "- Asset_ID - An ID code for the cryptoasset.\n",
    "- Count - The number of trades that took place this minute.\n",
    "- Open - The USD price at the beginning of the minute.\n",
    "- High - The highest USD price during the minute.\n",
    "- Low - The lowest USD price during the minute.\n",
    "- Close - The USD price at the end of the minute.\n",
    "- Volume - The number of cryptoasset u units traded during the minute.\n",
    "- VWAP - The volume-weighted average price for the minute.\n",
    "- Target - 15 minute residualized returns. See the 'Prediction and Evaluation section of this notebook for details of how the target is calculated.\n",
    "- Weight - Weight, defined by the competition hosts here\n",
    "- Asset_Name - Human readable Asset name.\n",
    "\n",
    "example_test.csv - An example of the data that will be delivered by the time series API.\n",
    "\n",
    "example_sample_submission.csv - An example of the data that will be delivered by the time series API. The data is just copied from train.csv.\n",
    "\n",
    "asset_details.csv - Provides the real name and of the cryptoasset for each Asset_ID and the weight each cryptoasset receives in the metric.\n",
    "\n",
    "supplemental_train.csv - After the submission period is over this file's data will be replaced with cryptoasset prices from the submission period. In the Evaluation phase, the train, train supplement, and test set will be contiguous in time, apart from any missing data. The current copy, which is just filled approximately the right amount of data from train.csv is provided as a placeholder.\n",
    "\n",
    "    📌 There are 14 coins in the dataset\n",
    "\n",
    "    📌 There are 4 years in the [full] dataset\n"
   ]
  },
  {
   "cell_type": "markdown",
   "id": "86d84c7e",
   "metadata": {},
   "source": [
    "#  Import"
   ]
  },
  {
   "cell_type": "code",
   "execution_count": 1,
   "id": "666c8397",
   "metadata": {},
   "outputs": [],
   "source": [
    "%matplotlib inline\n",
    "import pandas as pd\n",
    "import seaborn as sns\n",
    "import numpy as np\n",
    "import matplotlib.pyplot as plt\n",
    "from scipy import stats\n",
    "\n",
    "import torch\n",
    "import torch.nn as nn\n",
    "import torch.nn.functional as F\n",
    "import torch.optim as optim\n",
    "from torch.utils.data import Dataset, DataLoader\n",
    "from tqdm import tqdm\n",
    "\n",
    "import time"
   ]
  },
  {
   "cell_type": "code",
   "execution_count": 2,
   "id": "25e07be2",
   "metadata": {},
   "outputs": [
    {
     "name": "stdout",
     "output_type": "stream",
     "text": [
      "False\n"
     ]
    }
   ],
   "source": [
    "# check if CUDA is available\n",
    "use_cuda = torch.cuda.is_available()\n",
    "print(use_cuda)"
   ]
  },
  {
   "cell_type": "markdown",
   "id": "8fd028f2",
   "metadata": {},
   "source": [
    "# Load data"
   ]
  },
  {
   "cell_type": "code",
   "execution_count": 3,
   "id": "99728be6",
   "metadata": {},
   "outputs": [],
   "source": [
    "pd.set_option('display.max_rows', None)\n",
    "train_csv = pd.read_csv(\"train.csv\", names=['value'], header=0)\n",
    "test_csv = pd.read_csv(\"example_test.csv\")\n",
    "samples_submission_csv = pd.read_csv(\"example_sample_submission.csv\")\n",
    "asset_csv = pd.read_csv(\"asset_details.csv\")\n",
    "supplemental_train = pd.read_csv(\"supplemental_train.csv\")"
   ]
  },
  {
   "cell_type": "markdown",
   "id": "42804fc4",
   "metadata": {},
   "source": [
    "# Remove NaN rows"
   ]
  },
  {
   "cell_type": "code",
   "execution_count": 4,
   "id": "f39d7eca",
   "metadata": {},
   "outputs": [],
   "source": [
    "train_csv = train_csv.dropna()"
   ]
  },
  {
   "cell_type": "code",
   "execution_count": 15,
   "id": "709712fc",
   "metadata": {},
   "outputs": [
    {
     "data": {
      "text/html": [
       "<div>\n",
       "<style scoped>\n",
       "    .dataframe tbody tr th:only-of-type {\n",
       "        vertical-align: middle;\n",
       "    }\n",
       "\n",
       "    .dataframe tbody tr th {\n",
       "        vertical-align: top;\n",
       "    }\n",
       "\n",
       "    .dataframe thead th {\n",
       "        text-align: right;\n",
       "    }\n",
       "</style>\n",
       "<table border=\"1\" class=\"dataframe\">\n",
       "  <thead>\n",
       "    <tr style=\"text-align: right;\">\n",
       "      <th></th>\n",
       "      <th>timestamp</th>\n",
       "      <th>Asset_ID</th>\n",
       "      <th>Count</th>\n",
       "      <th>Open</th>\n",
       "      <th>High</th>\n",
       "      <th>Low</th>\n",
       "      <th>Close</th>\n",
       "      <th>Volume</th>\n",
       "      <th>VWAP</th>\n",
       "      <th>Target</th>\n",
       "    </tr>\n",
       "  </thead>\n",
       "  <tbody>\n",
       "    <tr>\n",
       "      <th>0</th>\n",
       "      <td>1514764860</td>\n",
       "      <td>2</td>\n",
       "      <td>40.0</td>\n",
       "      <td>2376.580078</td>\n",
       "      <td>2399.500000</td>\n",
       "      <td>2357.139893</td>\n",
       "      <td>2374.590088</td>\n",
       "      <td>19.233006</td>\n",
       "      <td>2373.116455</td>\n",
       "      <td>-0.004218</td>\n",
       "    </tr>\n",
       "    <tr>\n",
       "      <th>1</th>\n",
       "      <td>1514764860</td>\n",
       "      <td>0</td>\n",
       "      <td>5.0</td>\n",
       "      <td>8.530000</td>\n",
       "      <td>8.530000</td>\n",
       "      <td>8.530000</td>\n",
       "      <td>8.530000</td>\n",
       "      <td>78.379997</td>\n",
       "      <td>8.530000</td>\n",
       "      <td>-0.014399</td>\n",
       "    </tr>\n",
       "    <tr>\n",
       "      <th>2</th>\n",
       "      <td>1514764860</td>\n",
       "      <td>1</td>\n",
       "      <td>229.0</td>\n",
       "      <td>13835.194336</td>\n",
       "      <td>14013.799805</td>\n",
       "      <td>13666.110352</td>\n",
       "      <td>13850.175781</td>\n",
       "      <td>31.550062</td>\n",
       "      <td>13827.062500</td>\n",
       "      <td>-0.014643</td>\n",
       "    </tr>\n",
       "    <tr>\n",
       "      <th>3</th>\n",
       "      <td>1514764860</td>\n",
       "      <td>5</td>\n",
       "      <td>32.0</td>\n",
       "      <td>7.659600</td>\n",
       "      <td>7.659600</td>\n",
       "      <td>7.656700</td>\n",
       "      <td>7.657600</td>\n",
       "      <td>6626.713379</td>\n",
       "      <td>7.657713</td>\n",
       "      <td>-0.013922</td>\n",
       "    </tr>\n",
       "    <tr>\n",
       "      <th>4</th>\n",
       "      <td>1514764860</td>\n",
       "      <td>7</td>\n",
       "      <td>5.0</td>\n",
       "      <td>25.920000</td>\n",
       "      <td>25.920000</td>\n",
       "      <td>25.874001</td>\n",
       "      <td>25.877001</td>\n",
       "      <td>121.087311</td>\n",
       "      <td>25.891363</td>\n",
       "      <td>-0.008264</td>\n",
       "    </tr>\n",
       "    <tr>\n",
       "      <th>5</th>\n",
       "      <td>1514764860</td>\n",
       "      <td>6</td>\n",
       "      <td>173.0</td>\n",
       "      <td>738.302490</td>\n",
       "      <td>746.000000</td>\n",
       "      <td>732.510010</td>\n",
       "      <td>738.507507</td>\n",
       "      <td>335.987854</td>\n",
       "      <td>738.839294</td>\n",
       "      <td>-0.004809</td>\n",
       "    </tr>\n",
       "    <tr>\n",
       "      <th>6</th>\n",
       "      <td>1514764860</td>\n",
       "      <td>9</td>\n",
       "      <td>167.0</td>\n",
       "      <td>225.330002</td>\n",
       "      <td>227.779999</td>\n",
       "      <td>222.979996</td>\n",
       "      <td>225.206665</td>\n",
       "      <td>411.896637</td>\n",
       "      <td>225.197937</td>\n",
       "      <td>-0.009791</td>\n",
       "    </tr>\n",
       "    <tr>\n",
       "      <th>8</th>\n",
       "      <td>1514764920</td>\n",
       "      <td>2</td>\n",
       "      <td>53.0</td>\n",
       "      <td>2374.553223</td>\n",
       "      <td>2400.899902</td>\n",
       "      <td>2354.199951</td>\n",
       "      <td>2372.286621</td>\n",
       "      <td>24.050259</td>\n",
       "      <td>2371.434570</td>\n",
       "      <td>-0.004079</td>\n",
       "    </tr>\n",
       "    <tr>\n",
       "      <th>9</th>\n",
       "      <td>1514764920</td>\n",
       "      <td>0</td>\n",
       "      <td>7.0</td>\n",
       "      <td>8.530000</td>\n",
       "      <td>8.530000</td>\n",
       "      <td>8.514500</td>\n",
       "      <td>8.514500</td>\n",
       "      <td>71.389999</td>\n",
       "      <td>8.520215</td>\n",
       "      <td>-0.015875</td>\n",
       "    </tr>\n",
       "  </tbody>\n",
       "</table>\n",
       "</div>"
      ],
      "text/plain": [
       "    timestamp  Asset_ID  Count          Open          High           Low  \\\n",
       "0  1514764860         2   40.0   2376.580078   2399.500000   2357.139893   \n",
       "1  1514764860         0    5.0      8.530000      8.530000      8.530000   \n",
       "2  1514764860         1  229.0  13835.194336  14013.799805  13666.110352   \n",
       "3  1514764860         5   32.0      7.659600      7.659600      7.656700   \n",
       "4  1514764860         7    5.0     25.920000     25.920000     25.874001   \n",
       "5  1514764860         6  173.0    738.302490    746.000000    732.510010   \n",
       "6  1514764860         9  167.0    225.330002    227.779999    222.979996   \n",
       "8  1514764920         2   53.0   2374.553223   2400.899902   2354.199951   \n",
       "9  1514764920         0    7.0      8.530000      8.530000      8.514500   \n",
       "\n",
       "          Close       Volume          VWAP    Target  \n",
       "0   2374.590088    19.233006   2373.116455 -0.004218  \n",
       "1      8.530000    78.379997      8.530000 -0.014399  \n",
       "2  13850.175781    31.550062  13827.062500 -0.014643  \n",
       "3      7.657600  6626.713379      7.657713 -0.013922  \n",
       "4     25.877001   121.087311     25.891363 -0.008264  \n",
       "5    738.507507   335.987854    738.839294 -0.004809  \n",
       "6    225.206665   411.896637    225.197937 -0.009791  \n",
       "8   2372.286621    24.050259   2371.434570 -0.004079  \n",
       "9      8.514500    71.389999      8.520215 -0.015875  "
      ]
     },
     "execution_count": 15,
     "metadata": {},
     "output_type": "execute_result"
    }
   ],
   "source": [
    "train_csv.iloc[0:9]"
   ]
  },
  {
   "cell_type": "markdown",
   "id": "1b49cca6",
   "metadata": {},
   "source": [
    "# Memory review"
   ]
  },
  {
   "cell_type": "code",
   "execution_count": null,
   "id": "77e4e2fc",
   "metadata": {
    "scrolled": true
   },
   "outputs": [],
   "source": [
    "train_csv.info(memory_usage = \"deep\")"
   ]
  },
  {
   "cell_type": "markdown",
   "id": "796d0e89",
   "metadata": {},
   "source": [
    "# Memory Size Reduction"
   ]
  },
  {
   "cell_type": "code",
   "execution_count": null,
   "id": "09fd9d2f",
   "metadata": {},
   "outputs": [],
   "source": [
    "for column in train_csv:\n",
    "    print(column)\n",
    "    if train_csv[column].dtype == 'float64':\n",
    "        train_csv[column]=pd.to_numeric(train_csv[column], downcast='float')\n",
    "    if train_csv[column].dtype == 'int64':\n",
    "        train_csv[column]=pd.to_numeric(train_csv[column], downcast='integer')"
   ]
  },
  {
   "cell_type": "code",
   "execution_count": null,
   "id": "374fce2c",
   "metadata": {
    "scrolled": true
   },
   "outputs": [],
   "source": [
    "train_csv.info(memory_usage = \"deep\")"
   ]
  },
  {
   "cell_type": "markdown",
   "id": "09e4afc0",
   "metadata": {},
   "source": [
    "# Dataset description"
   ]
  },
  {
   "cell_type": "code",
   "execution_count": null,
   "id": "ecad7b79",
   "metadata": {},
   "outputs": [],
   "source": [
    "dtf_description_train = train_csv.describe()\n",
    "dtf_description_train"
   ]
  },
  {
   "cell_type": "code",
   "execution_count": null,
   "id": "72e03de1",
   "metadata": {
    "scrolled": true
   },
   "outputs": [],
   "source": [
    "dtf_description_test = test_csv.describe()\n",
    "dtf_description_test"
   ]
  },
  {
   "cell_type": "code",
   "execution_count": null,
   "id": "dbe6aee0",
   "metadata": {},
   "outputs": [],
   "source": [
    "dtf_description_sample = samples_submission_csv.describe()\n",
    "dtf_description_sample"
   ]
  },
  {
   "cell_type": "code",
   "execution_count": null,
   "id": "a513bbf2",
   "metadata": {
    "scrolled": true
   },
   "outputs": [],
   "source": [
    "dtf_description_asset = asset_csv.describe()\n",
    "dtf_description_asset"
   ]
  },
  {
   "cell_type": "code",
   "execution_count": null,
   "id": "ecf65f5a",
   "metadata": {},
   "outputs": [],
   "source": [
    "dtf_supplemental_train= supplemental_train.describe()\n",
    "dtf_supplemental_train"
   ]
  },
  {
   "cell_type": "markdown",
   "id": "95d32b33",
   "metadata": {},
   "source": [
    "# Do not Run\n",
    "\n",
    "train_csv otherwise the kernel will die"
   ]
  },
  {
   "cell_type": "code",
   "execution_count": null,
   "id": "44b24b44",
   "metadata": {},
   "outputs": [],
   "source": [
    "train_csv.iloc[0:9]"
   ]
  },
  {
   "cell_type": "markdown",
   "id": "635d132e",
   "metadata": {},
   "source": [
    "# Number of entries that are null/void"
   ]
  },
  {
   "cell_type": "code",
   "execution_count": null,
   "id": "7dc34ad7",
   "metadata": {},
   "outputs": [],
   "source": [
    "def list_null(dataset, feature, per):\n",
    "    # Input\n",
    "    # dataset: the selected dataset\n",
    "    # feature: the name of the feature\n",
    "    # per: the percentage of row that are void vs the whole column\n",
    "    # output\n",
    "    # list the column with a void percentage higher than per\n",
    "    res = []\n",
    "    for f in feature:\n",
    "        #print(\"feature: {} number of missing value: {} \\n the lengt of the dataset is {} and the percentage of null value is {}\".format(f, train_csv[f].isna().sum(), len(dataset), train_csv[f].isna().sum()/len(dataset)))\n",
    "        if (dataset[f].isna().sum()/len(dataset)) > per:\n",
    "            res.append(f)\n",
    "        \n",
    "    return res\n",
    "\n",
    "list_null(train_csv, train_csv.columns, 0.001)\n"
   ]
  },
  {
   "cell_type": "code",
   "execution_count": 16,
   "id": "2c9c7707",
   "metadata": {},
   "outputs": [
    {
     "data": {
      "text/plain": [
       "750341"
      ]
     },
     "execution_count": 16,
     "metadata": {},
     "output_type": "execute_result"
    }
   ],
   "source": [
    "len(train_csv) - len(train_csv_nnan)"
   ]
  },
  {
   "cell_type": "code",
   "execution_count": 17,
   "id": "1c6d1578",
   "metadata": {
    "scrolled": false
   },
   "outputs": [
    {
     "data": {
      "text/html": [
       "<div>\n",
       "<style scoped>\n",
       "    .dataframe tbody tr th:only-of-type {\n",
       "        vertical-align: middle;\n",
       "    }\n",
       "\n",
       "    .dataframe tbody tr th {\n",
       "        vertical-align: top;\n",
       "    }\n",
       "\n",
       "    .dataframe thead th {\n",
       "        text-align: right;\n",
       "    }\n",
       "</style>\n",
       "<table border=\"1\" class=\"dataframe\">\n",
       "  <thead>\n",
       "    <tr style=\"text-align: right;\">\n",
       "      <th></th>\n",
       "      <th>timestamp</th>\n",
       "      <th>Asset_ID</th>\n",
       "      <th>Count</th>\n",
       "      <th>Open</th>\n",
       "      <th>High</th>\n",
       "      <th>Low</th>\n",
       "      <th>Close</th>\n",
       "      <th>Volume</th>\n",
       "      <th>VWAP</th>\n",
       "      <th>Target</th>\n",
       "    </tr>\n",
       "  </thead>\n",
       "  <tbody>\n",
       "    <tr>\n",
       "      <th>count</th>\n",
       "      <td>2.348646e+07</td>\n",
       "      <td>2.348646e+07</td>\n",
       "      <td>2.348646e+07</td>\n",
       "      <td>2.348646e+07</td>\n",
       "      <td>2.348646e+07</td>\n",
       "      <td>2.348646e+07</td>\n",
       "      <td>2.348646e+07</td>\n",
       "      <td>2.348646e+07</td>\n",
       "      <td>2.348646e+07</td>\n",
       "      <td>2.348646e+07</td>\n",
       "    </tr>\n",
       "    <tr>\n",
       "      <th>mean</th>\n",
       "      <td>1.577541e+09</td>\n",
       "      <td>6.224257e+00</td>\n",
       "      <td>2.954030e+02</td>\n",
       "      <td>1.476052e+03</td>\n",
       "      <td>1.479876e+03</td>\n",
       "      <td>1.472882e+03</td>\n",
       "      <td>1.476051e+03</td>\n",
       "      <td>2.947318e+05</td>\n",
       "      <td>NaN</td>\n",
       "      <td>7.121870e-06</td>\n",
       "    </tr>\n",
       "    <tr>\n",
       "      <th>std</th>\n",
       "      <td>3.333367e+07</td>\n",
       "      <td>4.099476e+00</td>\n",
       "      <td>8.796244e+02</td>\n",
       "      <td>6.119951e+03</td>\n",
       "      <td>6.129966e+03</td>\n",
       "      <td>6.110472e+03</td>\n",
       "      <td>6.119956e+03</td>\n",
       "      <td>2.471421e+06</td>\n",
       "      <td>NaN</td>\n",
       "      <td>5.679042e-03</td>\n",
       "    </tr>\n",
       "    <tr>\n",
       "      <th>min</th>\n",
       "      <td>1.514765e+09</td>\n",
       "      <td>0.000000e+00</td>\n",
       "      <td>1.000000e+00</td>\n",
       "      <td>1.170400e-03</td>\n",
       "      <td>1.195000e-03</td>\n",
       "      <td>2.000000e-04</td>\n",
       "      <td>1.171400e-03</td>\n",
       "      <td>-3.662812e-01</td>\n",
       "      <td>-inf</td>\n",
       "      <td>-5.093510e-01</td>\n",
       "    </tr>\n",
       "    <tr>\n",
       "      <th>25%</th>\n",
       "      <td>1.549306e+09</td>\n",
       "      <td>3.000000e+00</td>\n",
       "      <td>2.200000e+01</td>\n",
       "      <td>2.808670e-01</td>\n",
       "      <td>2.819000e-01</td>\n",
       "      <td>2.800000e-01</td>\n",
       "      <td>2.808737e-01</td>\n",
       "      <td>1.493896e+02</td>\n",
       "      <td>2.808644e-01</td>\n",
       "      <td>-1.694353e-03</td>\n",
       "    </tr>\n",
       "    <tr>\n",
       "      <th>50%</th>\n",
       "      <td>1.578971e+09</td>\n",
       "      <td>6.000000e+00</td>\n",
       "      <td>6.900000e+01</td>\n",
       "      <td>1.486842e+01</td>\n",
       "      <td>1.489000e+01</td>\n",
       "      <td>1.484400e+01</td>\n",
       "      <td>1.486866e+01</td>\n",
       "      <td>1.332360e+03</td>\n",
       "      <td>1.486720e+01</td>\n",
       "      <td>-4.289820e-05</td>\n",
       "    </tr>\n",
       "    <tr>\n",
       "      <th>75%</th>\n",
       "      <td>1.606979e+09</td>\n",
       "      <td>9.000000e+00</td>\n",
       "      <td>2.310000e+02</td>\n",
       "      <td>2.349650e+02</td>\n",
       "      <td>2.353800e+02</td>\n",
       "      <td>2.345200e+02</td>\n",
       "      <td>2.349686e+02</td>\n",
       "      <td>2.911512e+04</td>\n",
       "      <td>2.349653e+02</td>\n",
       "      <td>1.601519e-03</td>\n",
       "    </tr>\n",
       "    <tr>\n",
       "      <th>max</th>\n",
       "      <td>1.632181e+09</td>\n",
       "      <td>1.300000e+01</td>\n",
       "      <td>1.650160e+05</td>\n",
       "      <td>6.480595e+04</td>\n",
       "      <td>6.490000e+04</td>\n",
       "      <td>6.467053e+04</td>\n",
       "      <td>6.480854e+04</td>\n",
       "      <td>7.597554e+08</td>\n",
       "      <td>inf</td>\n",
       "      <td>9.641699e-01</td>\n",
       "    </tr>\n",
       "  </tbody>\n",
       "</table>\n",
       "</div>"
      ],
      "text/plain": [
       "          timestamp      Asset_ID         Count          Open          High  \\\n",
       "count  2.348646e+07  2.348646e+07  2.348646e+07  2.348646e+07  2.348646e+07   \n",
       "mean   1.577541e+09  6.224257e+00  2.954030e+02  1.476052e+03  1.479876e+03   \n",
       "std    3.333367e+07  4.099476e+00  8.796244e+02  6.119951e+03  6.129966e+03   \n",
       "min    1.514765e+09  0.000000e+00  1.000000e+00  1.170400e-03  1.195000e-03   \n",
       "25%    1.549306e+09  3.000000e+00  2.200000e+01  2.808670e-01  2.819000e-01   \n",
       "50%    1.578971e+09  6.000000e+00  6.900000e+01  1.486842e+01  1.489000e+01   \n",
       "75%    1.606979e+09  9.000000e+00  2.310000e+02  2.349650e+02  2.353800e+02   \n",
       "max    1.632181e+09  1.300000e+01  1.650160e+05  6.480595e+04  6.490000e+04   \n",
       "\n",
       "                Low         Close        Volume          VWAP        Target  \n",
       "count  2.348646e+07  2.348646e+07  2.348646e+07  2.348646e+07  2.348646e+07  \n",
       "mean   1.472882e+03  1.476051e+03  2.947318e+05           NaN  7.121870e-06  \n",
       "std    6.110472e+03  6.119956e+03  2.471421e+06           NaN  5.679042e-03  \n",
       "min    2.000000e-04  1.171400e-03 -3.662812e-01          -inf -5.093510e-01  \n",
       "25%    2.800000e-01  2.808737e-01  1.493896e+02  2.808644e-01 -1.694353e-03  \n",
       "50%    1.484400e+01  1.486866e+01  1.332360e+03  1.486720e+01 -4.289820e-05  \n",
       "75%    2.345200e+02  2.349686e+02  2.911512e+04  2.349653e+02  1.601519e-03  \n",
       "max    6.467053e+04  6.480854e+04  7.597554e+08           inf  9.641699e-01  "
      ]
     },
     "execution_count": 17,
     "metadata": {},
     "output_type": "execute_result"
    }
   ],
   "source": [
    "train_csv_nnan.describe()"
   ]
  },
  {
   "cell_type": "markdown",
   "id": "ca45c190",
   "metadata": {},
   "source": [
    "# Distribution info"
   ]
  },
  {
   "cell_type": "code",
   "execution_count": 18,
   "id": "f6649d83",
   "metadata": {
    "scrolled": false
   },
   "outputs": [
    {
     "data": {
      "text/plain": [
       "\"y = train_csv_nnan['Target']\\nplt.figure(1); plt.title('Johnson SU')\\nsns.distplot(y, kde=False, fit=stats.johnsonsu)\\nplt.figure(2); plt.title('Normal')\\nsns.distplot(y, kde=False, fit=stats.norm)\\nplt.figure(3); plt.title('Log Normal')\\nsns.distplot(y, kde=False, fit=stats.lognorm)\""
      ]
     },
     "execution_count": 18,
     "metadata": {},
     "output_type": "execute_result"
    }
   ],
   "source": [
    "'''y = train_csv_nnan['Target']\n",
    "plt.figure(1); plt.title('Johnson SU')\n",
    "sns.distplot(y, kde=False, fit=stats.johnsonsu)\n",
    "plt.figure(2); plt.title('Normal')\n",
    "sns.distplot(y, kde=False, fit=stats.norm)\n",
    "plt.figure(3); plt.title('Log Normal')\n",
    "sns.distplot(y, kde=False, fit=stats.lognorm)'''\n",
    "\n",
    "# Note: output is highly concentrated around 0"
   ]
  },
  {
   "cell_type": "markdown",
   "id": "3dc81aad",
   "metadata": {},
   "source": [
    "# Datashowcase"
   ]
  },
  {
   "cell_type": "code",
   "execution_count": 22,
   "id": "7d907fc3",
   "metadata": {},
   "outputs": [
    {
     "ename": "AttributeError",
     "evalue": "'DataFrame' object has no attribute 'value'",
     "output_type": "error",
     "traceback": [
      "\u001b[0;31m---------------------------------------------------------------------------\u001b[0m",
      "\u001b[0;31mAttributeError\u001b[0m                            Traceback (most recent call last)",
      "\u001b[0;32m<ipython-input-22-d211954a851e>\u001b[0m in \u001b[0;36m<module>\u001b[0;34m\u001b[0m\n\u001b[0;32m----> 1\u001b[0;31m \u001b[0mtrain_csv_nnan\u001b[0m\u001b[0;34m.\u001b[0m\u001b[0mvalue\u001b[0m\u001b[0;34m\u001b[0m\u001b[0;34m\u001b[0m\u001b[0m\n\u001b[0m",
      "\u001b[0;32m~/anaconda3/envs/work_env/lib/python3.9/site-packages/pandas/core/generic.py\u001b[0m in \u001b[0;36m__getattr__\u001b[0;34m(self, name)\u001b[0m\n\u001b[1;32m   5463\u001b[0m             \u001b[0;32mif\u001b[0m \u001b[0mself\u001b[0m\u001b[0;34m.\u001b[0m\u001b[0m_info_axis\u001b[0m\u001b[0;34m.\u001b[0m\u001b[0m_can_hold_identifiers_and_holds_name\u001b[0m\u001b[0;34m(\u001b[0m\u001b[0mname\u001b[0m\u001b[0;34m)\u001b[0m\u001b[0;34m:\u001b[0m\u001b[0;34m\u001b[0m\u001b[0;34m\u001b[0m\u001b[0m\n\u001b[1;32m   5464\u001b[0m                 \u001b[0;32mreturn\u001b[0m \u001b[0mself\u001b[0m\u001b[0;34m[\u001b[0m\u001b[0mname\u001b[0m\u001b[0;34m]\u001b[0m\u001b[0;34m\u001b[0m\u001b[0;34m\u001b[0m\u001b[0m\n\u001b[0;32m-> 5465\u001b[0;31m             \u001b[0;32mreturn\u001b[0m \u001b[0mobject\u001b[0m\u001b[0;34m.\u001b[0m\u001b[0m__getattribute__\u001b[0m\u001b[0;34m(\u001b[0m\u001b[0mself\u001b[0m\u001b[0;34m,\u001b[0m \u001b[0mname\u001b[0m\u001b[0;34m)\u001b[0m\u001b[0;34m\u001b[0m\u001b[0;34m\u001b[0m\u001b[0m\n\u001b[0m\u001b[1;32m   5466\u001b[0m \u001b[0;34m\u001b[0m\u001b[0m\n\u001b[1;32m   5467\u001b[0m     \u001b[0;32mdef\u001b[0m \u001b[0m__setattr__\u001b[0m\u001b[0;34m(\u001b[0m\u001b[0mself\u001b[0m\u001b[0;34m,\u001b[0m \u001b[0mname\u001b[0m\u001b[0;34m:\u001b[0m \u001b[0mstr\u001b[0m\u001b[0;34m,\u001b[0m \u001b[0mvalue\u001b[0m\u001b[0;34m)\u001b[0m \u001b[0;34m->\u001b[0m \u001b[0;32mNone\u001b[0m\u001b[0;34m:\u001b[0m\u001b[0;34m\u001b[0m\u001b[0;34m\u001b[0m\u001b[0m\n",
      "\u001b[0;31mAttributeError\u001b[0m: 'DataFrame' object has no attribute 'value'"
     ]
    }
   ],
   "source": [
    "train_csv_nnan.value"
   ]
  },
  {
   "cell_type": "code",
   "execution_count": 21,
   "id": "b753e071",
   "metadata": {},
   "outputs": [
    {
     "ename": "AttributeError",
     "evalue": "'DataFrame' object has no attribute 'value'",
     "output_type": "error",
     "traceback": [
      "\u001b[0;31m---------------------------------------------------------------------------\u001b[0m",
      "\u001b[0;31mAttributeError\u001b[0m                            Traceback (most recent call last)",
      "\u001b[0;32m<ipython-input-21-a42ab9f6bc64>\u001b[0m in \u001b[0;36m<module>\u001b[0;34m\u001b[0m\n\u001b[1;32m      1\u001b[0m \u001b[0mfig\u001b[0m\u001b[0;34m,\u001b[0m \u001b[0maxes\u001b[0m \u001b[0;34m=\u001b[0m \u001b[0mplt\u001b[0m\u001b[0;34m.\u001b[0m\u001b[0msubplots\u001b[0m\u001b[0;34m(\u001b[0m\u001b[0;36m3\u001b[0m\u001b[0;34m,\u001b[0m \u001b[0;36m2\u001b[0m\u001b[0;34m,\u001b[0m \u001b[0msharex\u001b[0m\u001b[0;34m=\u001b[0m\u001b[0;32mTrue\u001b[0m\u001b[0;34m)\u001b[0m\u001b[0;34m\u001b[0m\u001b[0;34m\u001b[0m\u001b[0m\n\u001b[0;32m----> 2\u001b[0;31m \u001b[0maxes\u001b[0m\u001b[0;34m[\u001b[0m\u001b[0;36m0\u001b[0m\u001b[0;34m,\u001b[0m \u001b[0;36m0\u001b[0m\u001b[0;34m]\u001b[0m\u001b[0;34m.\u001b[0m\u001b[0mplot\u001b[0m\u001b[0;34m(\u001b[0m\u001b[0mtrain_csv\u001b[0m\u001b[0;34m.\u001b[0m\u001b[0mvalue\u001b[0m\u001b[0;34m)\u001b[0m\u001b[0;34m\u001b[0m\u001b[0;34m\u001b[0m\u001b[0m\n\u001b[0m\u001b[1;32m      3\u001b[0m \u001b[0maxes\u001b[0m\u001b[0;34m[\u001b[0m\u001b[0;36m0\u001b[0m\u001b[0;34m,\u001b[0m\u001b[0;36m0\u001b[0m\u001b[0;34m]\u001b[0m\u001b[0;34m.\u001b[0m\u001b[0mset_title\u001b[0m\u001b[0;34m(\u001b[0m\u001b[0;34m'Original Series'\u001b[0m\u001b[0;34m)\u001b[0m\u001b[0;34m\u001b[0m\u001b[0;34m\u001b[0m\u001b[0m\n\u001b[1;32m      4\u001b[0m \u001b[0mplot_acf\u001b[0m\u001b[0;34m(\u001b[0m\u001b[0mtrain_csv\u001b[0m\u001b[0;34m.\u001b[0m\u001b[0mvalue\u001b[0m\u001b[0;34m,\u001b[0m \u001b[0max\u001b[0m\u001b[0;34m=\u001b[0m\u001b[0maxes\u001b[0m\u001b[0;34m[\u001b[0m\u001b[0;36m0\u001b[0m\u001b[0;34m,\u001b[0m \u001b[0;36m1\u001b[0m\u001b[0;34m]\u001b[0m\u001b[0;34m)\u001b[0m\u001b[0;34m\u001b[0m\u001b[0;34m\u001b[0m\u001b[0m\n",
      "\u001b[0;32m~/anaconda3/envs/work_env/lib/python3.9/site-packages/pandas/core/generic.py\u001b[0m in \u001b[0;36m__getattr__\u001b[0;34m(self, name)\u001b[0m\n\u001b[1;32m   5463\u001b[0m             \u001b[0;32mif\u001b[0m \u001b[0mself\u001b[0m\u001b[0;34m.\u001b[0m\u001b[0m_info_axis\u001b[0m\u001b[0;34m.\u001b[0m\u001b[0m_can_hold_identifiers_and_holds_name\u001b[0m\u001b[0;34m(\u001b[0m\u001b[0mname\u001b[0m\u001b[0;34m)\u001b[0m\u001b[0;34m:\u001b[0m\u001b[0;34m\u001b[0m\u001b[0;34m\u001b[0m\u001b[0m\n\u001b[1;32m   5464\u001b[0m                 \u001b[0;32mreturn\u001b[0m \u001b[0mself\u001b[0m\u001b[0;34m[\u001b[0m\u001b[0mname\u001b[0m\u001b[0;34m]\u001b[0m\u001b[0;34m\u001b[0m\u001b[0;34m\u001b[0m\u001b[0m\n\u001b[0;32m-> 5465\u001b[0;31m             \u001b[0;32mreturn\u001b[0m \u001b[0mobject\u001b[0m\u001b[0;34m.\u001b[0m\u001b[0m__getattribute__\u001b[0m\u001b[0;34m(\u001b[0m\u001b[0mself\u001b[0m\u001b[0;34m,\u001b[0m \u001b[0mname\u001b[0m\u001b[0;34m)\u001b[0m\u001b[0;34m\u001b[0m\u001b[0;34m\u001b[0m\u001b[0m\n\u001b[0m\u001b[1;32m   5466\u001b[0m \u001b[0;34m\u001b[0m\u001b[0m\n\u001b[1;32m   5467\u001b[0m     \u001b[0;32mdef\u001b[0m \u001b[0m__setattr__\u001b[0m\u001b[0;34m(\u001b[0m\u001b[0mself\u001b[0m\u001b[0;34m,\u001b[0m \u001b[0mname\u001b[0m\u001b[0;34m:\u001b[0m \u001b[0mstr\u001b[0m\u001b[0;34m,\u001b[0m \u001b[0mvalue\u001b[0m\u001b[0;34m)\u001b[0m \u001b[0;34m->\u001b[0m \u001b[0;32mNone\u001b[0m\u001b[0;34m:\u001b[0m\u001b[0;34m\u001b[0m\u001b[0;34m\u001b[0m\u001b[0m\n",
      "\u001b[0;31mAttributeError\u001b[0m: 'DataFrame' object has no attribute 'value'"
     ]
    },
    {
     "data": {
      "image/png": "[encoded data removed]",
      "text/plain": [
       "<Figure size 432x288 with 6 Axes>"
      ]
     },
     "metadata": {
      "needs_background": "light"
     },
     "output_type": "display_data"
    }
   ],
   "source": [
    "fig, axes = plt.subplots(3, 2, sharex=True)\n",
    "axes[0, 0].plot(train_csv.value)\n",
    "axes[0,0].set_title('Original Series')\n",
    "plot_acf(train_csv.value, ax=axes[0, 1])"
   ]
  },
  {
   "cell_type": "markdown",
   "id": "dc473411",
   "metadata": {},
   "source": [
    "# Dataset preparation"
   ]
  },
  {
   "cell_type": "code",
   "execution_count": 32,
   "id": "44a59b17",
   "metadata": {},
   "outputs": [],
   "source": [
    "class TimeSeriesDataset (Dataset):\n",
    "    def __init__(self, X, y, seq_len=1):\n",
    "        self.X = X\n",
    "        self.y = y\n",
    "        self.seq_len = seq_len\n",
    "    \n",
    "    def __len__(self):\n",
    "        return self.X.__len__() - (self.seq_len-1)\n",
    "    \n",
    "    def __getitem__(self, index):\n",
    "        return (self.X[index:index+self.seq_len], self.y[index+self.seq_len-1])"
   ]
  },
  {
   "cell_type": "markdown",
   "id": "5298f62a",
   "metadata": {},
   "source": [
    "# Dataloader"
   ]
  },
  {
   "cell_type": "code",
   "execution_count": 36,
   "id": "0f0aa52b",
   "metadata": {},
   "outputs": [
    {
     "ename": "NameError",
     "evalue": "name 'X' is not defined",
     "output_type": "error",
     "traceback": [
      "\u001b[0;31m---------------------------------------------------------------------------\u001b[0m",
      "\u001b[0;31mNameError\u001b[0m                                 Traceback (most recent call last)",
      "\u001b[0;32m<ipython-input-36-cf5d7301248e>\u001b[0m in \u001b[0;36m<module>\u001b[0;34m\u001b[0m\n\u001b[0;32m----> 1\u001b[0;31m \u001b[0mtrain_dataset\u001b[0m \u001b[0;34m=\u001b[0m \u001b[0mTimeSeriesDataset\u001b[0m\u001b[0;34m(\u001b[0m\u001b[0mX\u001b[0m\u001b[0;34m,\u001b[0m \u001b[0mtarget\u001b[0m\u001b[0;34m,\u001b[0m \u001b[0mseq_len\u001b[0m\u001b[0;34m=\u001b[0m\u001b[0;36m100\u001b[0m\u001b[0;34m)\u001b[0m\u001b[0;34m\u001b[0m\u001b[0;34m\u001b[0m\u001b[0m\n\u001b[0m\u001b[1;32m      2\u001b[0m \u001b[0mtrain_loader\u001b[0m \u001b[0;34m=\u001b[0m \u001b[0mtorch\u001b[0m\u001b[0;34m.\u001b[0m\u001b[0mutils\u001b[0m\u001b[0;34m.\u001b[0m\u001b[0mdata\u001b[0m\u001b[0;34m.\u001b[0m\u001b[0mDataLoader\u001b[0m\u001b[0;34m(\u001b[0m\u001b[0mtrain_dataset\u001b[0m\u001b[0;34m,\u001b[0m \u001b[0mbatch_size\u001b[0m \u001b[0;34m=\u001b[0m \u001b[0;36m50\u001b[0m\u001b[0;34m,\u001b[0m \u001b[0mshuffle\u001b[0m \u001b[0;34m=\u001b[0m \u001b[0;32mFalse\u001b[0m\u001b[0;34m)\u001b[0m\u001b[0;34m\u001b[0m\u001b[0;34m\u001b[0m\u001b[0m\n\u001b[1;32m      3\u001b[0m \u001b[0;34m\u001b[0m\u001b[0m\n\u001b[1;32m      4\u001b[0m \u001b[0;32mfor\u001b[0m \u001b[0mi\u001b[0m\u001b[0;34m,\u001b[0m \u001b[0md\u001b[0m \u001b[0;32min\u001b[0m \u001b[0menumerate\u001b[0m\u001b[0;34m(\u001b[0m\u001b[0mtrain_dataloader\u001b[0m\u001b[0;34m)\u001b[0m\u001b[0;34m:\u001b[0m\u001b[0;34m\u001b[0m\u001b[0;34m\u001b[0m\u001b[0m\n\u001b[1;32m      5\u001b[0m     \u001b[0mprint\u001b[0m\u001b[0;34m(\u001b[0m\u001b[0mi\u001b[0m\u001b[0;34m,\u001b[0m \u001b[0md\u001b[0m\u001b[0;34m[\u001b[0m\u001b[0;36m0\u001b[0m\u001b[0;34m]\u001b[0m\u001b[0;34m.\u001b[0m\u001b[0mshape\u001b[0m\u001b[0;34m,\u001b[0m \u001b[0md\u001b[0m\u001b[0;34m[\u001b[0m\u001b[0;36m1\u001b[0m\u001b[0;34m]\u001b[0m\u001b[0;34m.\u001b[0m\u001b[0mshape\u001b[0m\u001b[0;34m)\u001b[0m\u001b[0;34m\u001b[0m\u001b[0;34m\u001b[0m\u001b[0m\n",
      "\u001b[0;31mNameError\u001b[0m: name 'X' is not defined"
     ]
    }
   ],
   "source": [
    "train_dataset = TimeSeriesDataset(X, target, seq_len=100)\n",
    "train_loader = torch.utils.data.DataLoader(train_dataset, batch_size = 50, shuffle = False)\n",
    "\n",
    "for i, d in enumerate(train_dataloader):\n",
    "    print(i, d[0].shape, d[1].shape)"
   ]
  },
  {
   "cell_type": "markdown",
   "id": "455c35ff",
   "metadata": {},
   "source": [
    "# Define the RNN\n",
    "\n",
    "Next, we define an RNN in PyTorch. We'll use `nn.RNN` to create an RNN layer, then we'll add a last, fully-connected layer to get the output size that we want. An RNN takes in a number of parameters:\n",
    "* **input_size** - the size of the input\n",
    "* **hidden_dim** - the number of features in the RNN output and in the hidden state\n",
    "* **n_layers** - the number of layers that make up the RNN, typically 1-3; greater than 1 means that you'll create a stacked RNN\n",
    "* **batch_first** - whether or not the input/output of the RNN will have the batch_size as the first dimension (batch_size, seq_length, hidden_dim)\n",
    "\n",
    "Take a look at the [RNN documentation](https://pytorch.org/docs/stable/nn.html#rnn) to read more about recurrent layers."
   ]
  },
  {
   "cell_type": "code",
   "execution_count": null,
   "id": "63c78343",
   "metadata": {},
   "outputs": [],
   "source": [
    "class RNN(nn.Module):\n",
    "    def __init__(self, input_size, output_size, hidden_dim, n_layers):\n",
    "        super(RNN, self).__init__()\n",
    "        \n",
    "        self.hidden_dim=hidden_dim\n",
    "\n",
    "        # define an RNN with specified parameters\n",
    "        # batch_first means that the first dim of the input and output will be the batch_size\n",
    "        self.rnn = nn.RNN(input_size, hidden_dim, n_layers, batch_first=True)\n",
    "        \n",
    "        # last, fully-connected layer\n",
    "        self.fc = nn.Linear(hidden_dim, output_size)\n",
    "\n",
    "    def forward(self, x, hidden):\n",
    "        # x (batch_size, seq_length, input_size)\n",
    "        # hidden (n_layers, batch_size, hidden_dim)\n",
    "        # r_out (batch_size, time_step, hidden_size)\n",
    "        batch_size = x.size(0)\n",
    "        \n",
    "        # get RNN outputs\n",
    "        r_out, hidden = self.rnn(x, hidden)\n",
    "        # shape output to be (batch_size*seq_length, hidden_dim)\n",
    "        r_out = r_out.view(-1, self.hidden_dim)  \n",
    "        \n",
    "        # get final output \n",
    "        output = self.fc(r_out)\n",
    "        \n",
    "        return output, hidden"
   ]
  },
  {
   "cell_type": "markdown",
   "id": "b9f91f56",
   "metadata": {},
   "source": [
    "### Check the input and output dimensions\n",
    "\n",
    "As a check that your model is working as expected, test out how it responds to input data."
   ]
  },
  {
   "cell_type": "code",
   "execution_count": null,
   "id": "7502b487",
   "metadata": {},
   "outputs": [],
   "source": [
    "# test that dimensions are as expected\n",
    "test_rnn = RNN(input_size=1, output_size=1, hidden_dim=10, n_layers=2)\n",
    "\n",
    "# generate evenly spaced, test data pts\n",
    "''' time_steps = np.linspace(0, np.pi, seq_length)\n",
    "data = np.sin(time_steps)\n",
    "data.resize((seq_length, 1))'''\n",
    "\n",
    "test_input = torch.Tensor(data).unsqueeze(0) # give it a batch_size of 1 as first dimension\n",
    "print('Input size: ', test_input.size())\n",
    "\n",
    "# test out rnn sizes\n",
    "test_out, test_h = test_rnn(test_input, None)\n",
    "print('Output size: ', test_out.size())\n",
    "print('Hidden state size: ', test_h.size())"
   ]
  },
  {
   "cell_type": "markdown",
   "id": "dd5174d1",
   "metadata": {},
   "source": [
    "# Training the RNN"
   ]
  },
  {
   "cell_type": "code",
   "execution_count": null,
   "id": "1d61b534",
   "metadata": {},
   "outputs": [],
   "source": [
    "# decide on hyperparameters\n",
    "input_size=1 \n",
    "output_size=1\n",
    "hidden_dim=32\n",
    "n_layers=1\n",
    "\n",
    "# instantiate an RNN\n",
    "rnn = RNN(input_size, output_size, hidden_dim, n_layers)\n",
    "print(rnn)"
   ]
  },
  {
   "cell_type": "markdown",
   "id": "e24e39b9",
   "metadata": {},
   "source": [
    "### Loss and Optimization\n",
    "\n",
    "This is a regression problem: can we train an RNN to accurately predict the next data point, given a current data point?\n",
    "\n",
    ">* The data points are coordinate values, so to compare a predicted and ground_truth point, we'll use a regression loss: the mean squared error.\n",
    "* It's typical to use an Adam optimizer for recurrent models."
   ]
  },
  {
   "cell_type": "code",
   "execution_count": null,
   "id": "18a9868d",
   "metadata": {},
   "outputs": [],
   "source": [
    "# MSE loss and Adam optimizer with a learning rate of 0.01\n",
    "criterion = nn.MSELoss()\n",
    "optimizer = torch.optim.Adam(rnn.parameters(), lr=0.01) "
   ]
  },
  {
   "cell_type": "markdown",
   "id": "fad7d360",
   "metadata": {},
   "source": [
    "### Defining the training function\n",
    "\n",
    "This function takes in an rnn, a number of steps to train for, and returns a trained rnn. This function is also responsible for displaying the loss and the predictions, every so often.\n",
    "\n",
    "#### Hidden State\n",
    "\n",
    "Pay close attention to the hidden state, here:\n",
    "* Before looping over a batch of training data, the hidden state is initialized\n",
    "* After a new hidden state is generated by the rnn, we get the latest hidden state, and use that as input to the rnn for the following steps"
   ]
  },
  {
   "cell_type": "code",
   "execution_count": null,
   "id": "39c9c5ea",
   "metadata": {},
   "outputs": [],
   "source": [
    "# train the RNN\n",
    "def train(rnn, n_steps, print_every):\n",
    "    \n",
    "    # initialize the hidden state\n",
    "    hidden = None      \n",
    "    \n",
    "    for batch_i, step in enumerate(range(n_steps)):\n",
    "        # defining the training data \n",
    "        time_steps = np.linspace(step * np.pi, (step+1)*np.pi, seq_length + 1)\n",
    "        data = np.sin(time_steps)\n",
    "        data.resize((seq_length + 1, 1)) # input_size=1\n",
    "\n",
    "        x = data[:-1]\n",
    "        y = data[1:]\n",
    "        \n",
    "        # convert data into Tensors\n",
    "        x_tensor = torch.Tensor(x).unsqueeze(0) # unsqueeze gives a 1, batch_size dimension\n",
    "        y_tensor = torch.Tensor(y)\n",
    "\n",
    "        # outputs from the rnn\n",
    "        prediction, hidden = rnn(x_tensor, hidden)\n",
    "\n",
    "        ## Representing Memory ##\n",
    "        # make a new variable for hidden and detach the hidden state from its history\n",
    "        # this way, we don't backpropagate through the entire history\n",
    "        hidden = hidden.data\n",
    "\n",
    "        # calculate the loss\n",
    "        loss = criterion(prediction, y_tensor)\n",
    "        # zero gradients\n",
    "        optimizer.zero_grad()\n",
    "        # perform backprop and update weights\n",
    "        loss.backward()\n",
    "        optimizer.step()\n",
    "\n",
    "        # display loss and predictions\n",
    "        if batch_i%print_every == 0:        \n",
    "            print('Loss: ', loss.item())\n",
    "            plt.plot(time_steps[1:], x, 'r.') # input\n",
    "            plt.plot(time_steps[1:], prediction.data.numpy().flatten(), 'b.') # predictions\n",
    "            plt.show()\n",
    "    \n",
    "    return rnn\n"
   ]
  }
 ],
 "metadata": {
  "kernelspec": {
   "display_name": "Python 3",
   "language": "python",
   "name": "python3"
  },
  "language_info": {
   "codemirror_mode": {
    "name": "ipython",
    "version": 3
   },
   "file_extension": ".py",
   "mimetype": "text/x-python",
   "name": "python",
   "nbconvert_exporter": "python",
   "pygments_lexer": "ipython3",
   "version": "3.9.7"
  }
 },
 "nbformat": 4,
 "nbformat_minor": 5
}
