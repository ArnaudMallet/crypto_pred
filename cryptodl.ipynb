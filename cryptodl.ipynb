{
 "cells": [
  {
   "cell_type": "markdown",
   "id": "3150b862",
   "metadata": {},
   "source": [
    "# This dataset contains information on historic trades for several cryptoassets, such as Bitcoin and Ethereum. Your challenge is to predict their future returns.\n",
    "\n",
    "As historic cryptocurrency prices are not confidential this will be a forecasting competition using the time series API. Furthermore the public leaderboard targets are publicly available and are provided as part of the competition dataset. Expect to see many people submitting perfect submissions for fun. Accordingly, THE PUBLIC LEADERBOARD FOR THIS COMPETITION IS NOT MEANINGFUL and is only provided as a convenience for anyone who wants to test their code. The final private leaderboard will be determined using real market data gathered after the submission period closes."
   ]
  },
  {
   "cell_type": "markdown",
   "id": "4aa437ab",
   "metadata": {},
   "source": [
    "train.csv - The training set\n",
    "\n",
    "- timestamp - A timestamp for the minute covered by the row.\n",
    "- Asset_ID - An ID code for the cryptoasset.\n",
    "- Count - The number of trades that took place this minute.\n",
    "- Open - The USD price at the beginning of the minute.\n",
    "- High - The highest USD price during the minute.\n",
    "- Low - The lowest USD price during the minute.\n",
    "- Close - The USD price at the end of the minute.\n",
    "- Volume - The number of cryptoasset u units traded during the minute.\n",
    "- VWAP - The volume-weighted average price for the minute.\n",
    "- Target - 15 minute residualized returns. See the 'Prediction and Evaluation section of this notebook for details of how the target is calculated.\n",
    "- Weight - Weight, defined by the competition hosts here\n",
    "- Asset_Name - Human readable Asset name.\n",
    "\n",
    "example_test.csv - An example of the data that will be delivered by the time series API.\n",
    "\n",
    "example_sample_submission.csv - An example of the data that will be delivered by the time series API. The data is just copied from train.csv.\n",
    "\n",
    "asset_details.csv - Provides the real name and of the cryptoasset for each Asset_ID and the weight each cryptoasset receives in the metric.\n",
    "\n",
    "supplemental_train.csv - After the submission period is over this file's data will be replaced with cryptoasset prices from the submission period. In the Evaluation phase, the train, train supplement, and test set will be contiguous in time, apart from any missing data. The current copy, which is just filled approximately the right amount of data from train.csv is provided as a placeholder.\n",
    "\n",
    "    📌 There are 14 coins in the dataset\n",
    "\n",
    "    📌 There are 4 years in the [full] dataset\n"
   ]
  },
  {
   "cell_type": "markdown",
   "id": "86d84c7e",
   "metadata": {},
   "source": [
    "#  Import"
   ]
  },
  {
   "cell_type": "code",
   "execution_count": 1,
   "id": "666c8397",
   "metadata": {},
   "outputs": [],
   "source": [
    "%matplotlib inline\n",
    "import pandas as pd\n",
    "import seaborn as sns\n",
    "import numpy as np\n",
    "import matplotlib.pyplot as plt\n",
    "from scipy import stats\n",
    "\n",
    "import torch\n",
    "import torch.nn as nn\n",
    "import torch.nn.functional as F\n",
    "import torch.optim as optim\n",
    "from torch.utils.data import Dataset, DataLoader\n",
    "from tqdm import tqdm\n",
    "\n",
    "import time"
   ]
  },
  {
   "cell_type": "code",
   "execution_count": 2,
   "id": "25e07be2",
   "metadata": {},
   "outputs": [
    {
     "name": "stdout",
     "output_type": "stream",
     "text": [
      "False\n"
     ]
    }
   ],
   "source": [
    "# check if CUDA is available\n",
    "use_cuda = torch.cuda.is_available()\n",
    "print(use_cuda)"
   ]
  },
  {
   "cell_type": "markdown",
   "id": "8fd028f2",
   "metadata": {},
   "source": [
    "# Load data"
   ]
  },
  {
   "cell_type": "code",
   "execution_count": 3,
   "id": "99728be6",
   "metadata": {},
   "outputs": [],
   "source": [
    "pd.set_option('display.max_rows', None)\n",
    "train_csv = pd.read_csv(\"train.csv\")\n",
    "test_csv = pd.read_csv(\"example_test.csv\")\n",
    "samples_submission_csv = pd.read_csv(\"example_sample_submission.csv\")\n",
    "asset_csv = pd.read_csv(\"asset_details.csv\")\n",
    "supplemental_train = pd.read_csv(\"supplemental_train.csv\")"
   ]
  },
  {
   "cell_type": "markdown",
   "id": "42804fc4",
   "metadata": {},
   "source": [
    "# Remove NaN rows"
   ]
  },
  {
   "cell_type": "code",
   "execution_count": 4,
   "id": "f39d7eca",
   "metadata": {},
   "outputs": [],
   "source": [
    "train_csv = train_csv.dropna()"
   ]
  },
  {
   "cell_type": "code",
   "execution_count": 5,
   "id": "709712fc",
   "metadata": {
    "scrolled": false
   },
   "outputs": [
    {
     "data": {
      "text/html": [
       "<div>\n",
       "<style scoped>\n",
       "    .dataframe tbody tr th:only-of-type {\n",
       "        vertical-align: middle;\n",
       "    }\n",
       "\n",
       "    .dataframe tbody tr th {\n",
       "        vertical-align: top;\n",
       "    }\n",
       "\n",
       "    .dataframe thead th {\n",
       "        text-align: right;\n",
       "    }\n",
       "</style>\n",
       "<table border=\"1\" class=\"dataframe\">\n",
       "  <thead>\n",
       "    <tr style=\"text-align: right;\">\n",
       "      <th></th>\n",
       "      <th>timestamp</th>\n",
       "      <th>Asset_ID</th>\n",
       "      <th>Count</th>\n",
       "      <th>Open</th>\n",
       "      <th>High</th>\n",
       "      <th>Low</th>\n",
       "      <th>Close</th>\n",
       "      <th>Volume</th>\n",
       "      <th>VWAP</th>\n",
       "      <th>Target</th>\n",
       "    </tr>\n",
       "  </thead>\n",
       "  <tbody>\n",
       "    <tr>\n",
       "      <th>0</th>\n",
       "      <td>1514764860</td>\n",
       "      <td>2</td>\n",
       "      <td>40.0</td>\n",
       "      <td>2376.580000</td>\n",
       "      <td>2399.5000</td>\n",
       "      <td>2357.1400</td>\n",
       "      <td>2374.590000</td>\n",
       "      <td>19.233005</td>\n",
       "      <td>2373.116392</td>\n",
       "      <td>-0.004218</td>\n",
       "    </tr>\n",
       "    <tr>\n",
       "      <th>1</th>\n",
       "      <td>1514764860</td>\n",
       "      <td>0</td>\n",
       "      <td>5.0</td>\n",
       "      <td>8.530000</td>\n",
       "      <td>8.5300</td>\n",
       "      <td>8.5300</td>\n",
       "      <td>8.530000</td>\n",
       "      <td>78.380000</td>\n",
       "      <td>8.530000</td>\n",
       "      <td>-0.014399</td>\n",
       "    </tr>\n",
       "    <tr>\n",
       "      <th>2</th>\n",
       "      <td>1514764860</td>\n",
       "      <td>1</td>\n",
       "      <td>229.0</td>\n",
       "      <td>13835.194000</td>\n",
       "      <td>14013.8000</td>\n",
       "      <td>13666.1100</td>\n",
       "      <td>13850.176000</td>\n",
       "      <td>31.550062</td>\n",
       "      <td>13827.062093</td>\n",
       "      <td>-0.014643</td>\n",
       "    </tr>\n",
       "    <tr>\n",
       "      <th>3</th>\n",
       "      <td>1514764860</td>\n",
       "      <td>5</td>\n",
       "      <td>32.0</td>\n",
       "      <td>7.659600</td>\n",
       "      <td>7.6596</td>\n",
       "      <td>7.6567</td>\n",
       "      <td>7.657600</td>\n",
       "      <td>6626.713370</td>\n",
       "      <td>7.657713</td>\n",
       "      <td>-0.013922</td>\n",
       "    </tr>\n",
       "    <tr>\n",
       "      <th>4</th>\n",
       "      <td>1514764860</td>\n",
       "      <td>7</td>\n",
       "      <td>5.0</td>\n",
       "      <td>25.920000</td>\n",
       "      <td>25.9200</td>\n",
       "      <td>25.8740</td>\n",
       "      <td>25.877000</td>\n",
       "      <td>121.087310</td>\n",
       "      <td>25.891363</td>\n",
       "      <td>-0.008264</td>\n",
       "    </tr>\n",
       "    <tr>\n",
       "      <th>5</th>\n",
       "      <td>1514764860</td>\n",
       "      <td>6</td>\n",
       "      <td>173.0</td>\n",
       "      <td>738.302500</td>\n",
       "      <td>746.0000</td>\n",
       "      <td>732.5100</td>\n",
       "      <td>738.507500</td>\n",
       "      <td>335.987856</td>\n",
       "      <td>738.839291</td>\n",
       "      <td>-0.004809</td>\n",
       "    </tr>\n",
       "    <tr>\n",
       "      <th>6</th>\n",
       "      <td>1514764860</td>\n",
       "      <td>9</td>\n",
       "      <td>167.0</td>\n",
       "      <td>225.330000</td>\n",
       "      <td>227.7800</td>\n",
       "      <td>222.9800</td>\n",
       "      <td>225.206667</td>\n",
       "      <td>411.896642</td>\n",
       "      <td>225.197944</td>\n",
       "      <td>-0.009791</td>\n",
       "    </tr>\n",
       "    <tr>\n",
       "      <th>8</th>\n",
       "      <td>1514764920</td>\n",
       "      <td>2</td>\n",
       "      <td>53.0</td>\n",
       "      <td>2374.553333</td>\n",
       "      <td>2400.9000</td>\n",
       "      <td>2354.2000</td>\n",
       "      <td>2372.286667</td>\n",
       "      <td>24.050259</td>\n",
       "      <td>2371.434498</td>\n",
       "      <td>-0.004079</td>\n",
       "    </tr>\n",
       "    <tr>\n",
       "      <th>9</th>\n",
       "      <td>1514764920</td>\n",
       "      <td>0</td>\n",
       "      <td>7.0</td>\n",
       "      <td>8.530000</td>\n",
       "      <td>8.5300</td>\n",
       "      <td>8.5145</td>\n",
       "      <td>8.514500</td>\n",
       "      <td>71.390000</td>\n",
       "      <td>8.520215</td>\n",
       "      <td>-0.015875</td>\n",
       "    </tr>\n",
       "  </tbody>\n",
       "</table>\n",
       "</div>"
      ],
      "text/plain": [
       "    timestamp  Asset_ID  Count          Open        High         Low  \\\n",
       "0  1514764860         2   40.0   2376.580000   2399.5000   2357.1400   \n",
       "1  1514764860         0    5.0      8.530000      8.5300      8.5300   \n",
       "2  1514764860         1  229.0  13835.194000  14013.8000  13666.1100   \n",
       "3  1514764860         5   32.0      7.659600      7.6596      7.6567   \n",
       "4  1514764860         7    5.0     25.920000     25.9200     25.8740   \n",
       "5  1514764860         6  173.0    738.302500    746.0000    732.5100   \n",
       "6  1514764860         9  167.0    225.330000    227.7800    222.9800   \n",
       "8  1514764920         2   53.0   2374.553333   2400.9000   2354.2000   \n",
       "9  1514764920         0    7.0      8.530000      8.5300      8.5145   \n",
       "\n",
       "          Close       Volume          VWAP    Target  \n",
       "0   2374.590000    19.233005   2373.116392 -0.004218  \n",
       "1      8.530000    78.380000      8.530000 -0.014399  \n",
       "2  13850.176000    31.550062  13827.062093 -0.014643  \n",
       "3      7.657600  6626.713370      7.657713 -0.013922  \n",
       "4     25.877000   121.087310     25.891363 -0.008264  \n",
       "5    738.507500   335.987856    738.839291 -0.004809  \n",
       "6    225.206667   411.896642    225.197944 -0.009791  \n",
       "8   2372.286667    24.050259   2371.434498 -0.004079  \n",
       "9      8.514500    71.390000      8.520215 -0.015875  "
      ]
     },
     "execution_count": 5,
     "metadata": {},
     "output_type": "execute_result"
    }
   ],
   "source": [
    "train_csv.iloc[0:9]"
   ]
  },
  {
   "cell_type": "markdown",
   "id": "7c5c77de",
   "metadata": {},
   "source": [
    "# Target evolution visualization"
   ]
  },
  {
   "cell_type": "code",
   "execution_count": 8,
   "id": "9532964a",
   "metadata": {
    "scrolled": true
   },
   "outputs": [
    {
     "data": {
      "image/png": "[encoded data removed]",
      "text/plain": [
       "<Figure size 1600x500 with 1 Axes>"
      ]
     },
     "metadata": {
      "needs_background": "light"
     },
     "output_type": "display_data"
    }
   ],
   "source": [
    "def plot_df(df, x, y, title=\"\", xlabel='Date', ylabel='Value', dpi=100):\n",
    "    plt.figure(figsize=(16,5), dpi=dpi)\n",
    "    plt.plot(x, y, color='tab:red')\n",
    "    plt.gca().set(title=title, xlabel=xlabel, ylabel=ylabel)\n",
    "    plt.show()\n",
    "\n",
    "plot_df(train_csv, x=train_csv.timestamp, y=train_csv.Target, title='Taregt evo')"
   ]
  },
  {
   "cell_type": "markdown",
   "id": "1b49cca6",
   "metadata": {},
   "source": [
    "# Memory review"
   ]
  },
  {
   "cell_type": "code",
   "execution_count": 7,
   "id": "77e4e2fc",
   "metadata": {
    "scrolled": true
   },
   "outputs": [
    {
     "name": "stdout",
     "output_type": "stream",
     "text": [
      "<class 'pandas.core.frame.DataFrame'>\n",
      "Int64Index: 23486465 entries, 0 to 24236581\n",
      "Data columns (total 10 columns):\n",
      " #   Column     Dtype  \n",
      "---  ------     -----  \n",
      " 0   timestamp  int64  \n",
      " 1   Asset_ID   int64  \n",
      " 2   Count      float64\n",
      " 3   Open       float64\n",
      " 4   High       float64\n",
      " 5   Low        float64\n",
      " 6   Close      float64\n",
      " 7   Volume     float64\n",
      " 8   VWAP       float64\n",
      " 9   Target     float64\n",
      "dtypes: float64(8), int64(2)\n",
      "memory usage: 1.9 GB\n"
     ]
    }
   ],
   "source": [
    "train_csv.info(memory_usage = \"deep\")"
   ]
  },
  {
   "cell_type": "markdown",
   "id": "796d0e89",
   "metadata": {},
   "source": [
    "# Memory Size Reduction"
   ]
  },
  {
   "cell_type": "code",
   "execution_count": 8,
   "id": "09fd9d2f",
   "metadata": {},
   "outputs": [
    {
     "name": "stdout",
     "output_type": "stream",
     "text": [
      "timestamp\n",
      "Asset_ID\n",
      "Count\n",
      "Open\n",
      "High\n",
      "Low\n",
      "Close\n",
      "Volume\n",
      "VWAP\n",
      "Target\n"
     ]
    }
   ],
   "source": [
    "for column in train_csv:\n",
    "    print(column)\n",
    "    if train_csv[column].dtype == 'float64':\n",
    "        train_csv[column]=pd.to_numeric(train_csv[column], downcast='float')\n",
    "    if train_csv[column].dtype == 'int64':\n",
    "        train_csv[column]=pd.to_numeric(train_csv[column], downcast='integer')"
   ]
  },
  {
   "cell_type": "code",
   "execution_count": 9,
   "id": "374fce2c",
   "metadata": {
    "scrolled": true
   },
   "outputs": [
    {
     "name": "stdout",
     "output_type": "stream",
     "text": [
      "<class 'pandas.core.frame.DataFrame'>\n",
      "Int64Index: 23486465 entries, 0 to 24236581\n",
      "Data columns (total 10 columns):\n",
      " #   Column     Dtype  \n",
      "---  ------     -----  \n",
      " 0   timestamp  int32  \n",
      " 1   Asset_ID   int8   \n",
      " 2   Count      float32\n",
      " 3   Open       float32\n",
      " 4   High       float32\n",
      " 5   Low        float32\n",
      " 6   Close      float32\n",
      " 7   Volume     float32\n",
      " 8   VWAP       float32\n",
      " 9   Target     float32\n",
      "dtypes: float32(8), int32(1), int8(1)\n",
      "memory usage: 1007.9 MB\n"
     ]
    }
   ],
   "source": [
    "train_csv.info(memory_usage = \"deep\")"
   ]
  },
  {
   "cell_type": "markdown",
   "id": "09e4afc0",
   "metadata": {},
   "source": [
    "# Dataset description"
   ]
  },
  {
   "cell_type": "code",
   "execution_count": 10,
   "id": "ecad7b79",
   "metadata": {},
   "outputs": [
    {
     "data": {
      "text/html": [
       "<div>\n",
       "<style scoped>\n",
       "    .dataframe tbody tr th:only-of-type {\n",
       "        vertical-align: middle;\n",
       "    }\n",
       "\n",
       "    .dataframe tbody tr th {\n",
       "        vertical-align: top;\n",
       "    }\n",
       "\n",
       "    .dataframe thead th {\n",
       "        text-align: right;\n",
       "    }\n",
       "</style>\n",
       "<table border=\"1\" class=\"dataframe\">\n",
       "  <thead>\n",
       "    <tr style=\"text-align: right;\">\n",
       "      <th></th>\n",
       "      <th>timestamp</th>\n",
       "      <th>Asset_ID</th>\n",
       "      <th>Count</th>\n",
       "      <th>Open</th>\n",
       "      <th>High</th>\n",
       "      <th>Low</th>\n",
       "      <th>Close</th>\n",
       "      <th>Volume</th>\n",
       "      <th>VWAP</th>\n",
       "      <th>Target</th>\n",
       "    </tr>\n",
       "  </thead>\n",
       "  <tbody>\n",
       "    <tr>\n",
       "      <th>count</th>\n",
       "      <td>2.348646e+07</td>\n",
       "      <td>2.348646e+07</td>\n",
       "      <td>2.348646e+07</td>\n",
       "      <td>2.348646e+07</td>\n",
       "      <td>2.348646e+07</td>\n",
       "      <td>2.348646e+07</td>\n",
       "      <td>2.348646e+07</td>\n",
       "      <td>2.348646e+07</td>\n",
       "      <td>2.348646e+07</td>\n",
       "      <td>2.348646e+07</td>\n",
       "    </tr>\n",
       "    <tr>\n",
       "      <th>mean</th>\n",
       "      <td>1.577541e+09</td>\n",
       "      <td>6.224257e+00</td>\n",
       "      <td>2.954030e+02</td>\n",
       "      <td>1.476052e+03</td>\n",
       "      <td>1.479876e+03</td>\n",
       "      <td>1.472882e+03</td>\n",
       "      <td>1.476051e+03</td>\n",
       "      <td>2.947318e+05</td>\n",
       "      <td>NaN</td>\n",
       "      <td>7.121870e-06</td>\n",
       "    </tr>\n",
       "    <tr>\n",
       "      <th>std</th>\n",
       "      <td>3.333367e+07</td>\n",
       "      <td>4.099476e+00</td>\n",
       "      <td>8.796244e+02</td>\n",
       "      <td>6.119951e+03</td>\n",
       "      <td>6.129966e+03</td>\n",
       "      <td>6.110472e+03</td>\n",
       "      <td>6.119956e+03</td>\n",
       "      <td>2.471421e+06</td>\n",
       "      <td>NaN</td>\n",
       "      <td>5.679042e-03</td>\n",
       "    </tr>\n",
       "    <tr>\n",
       "      <th>min</th>\n",
       "      <td>1.514765e+09</td>\n",
       "      <td>0.000000e+00</td>\n",
       "      <td>1.000000e+00</td>\n",
       "      <td>1.170400e-03</td>\n",
       "      <td>1.195000e-03</td>\n",
       "      <td>2.000000e-04</td>\n",
       "      <td>1.171400e-03</td>\n",
       "      <td>-3.662812e-01</td>\n",
       "      <td>-inf</td>\n",
       "      <td>-5.093510e-01</td>\n",
       "    </tr>\n",
       "    <tr>\n",
       "      <th>25%</th>\n",
       "      <td>1.549306e+09</td>\n",
       "      <td>3.000000e+00</td>\n",
       "      <td>2.200000e+01</td>\n",
       "      <td>2.808670e-01</td>\n",
       "      <td>2.819000e-01</td>\n",
       "      <td>2.800000e-01</td>\n",
       "      <td>2.808737e-01</td>\n",
       "      <td>1.493896e+02</td>\n",
       "      <td>2.808644e-01</td>\n",
       "      <td>-1.694353e-03</td>\n",
       "    </tr>\n",
       "    <tr>\n",
       "      <th>50%</th>\n",
       "      <td>1.578971e+09</td>\n",
       "      <td>6.000000e+00</td>\n",
       "      <td>6.900000e+01</td>\n",
       "      <td>1.486842e+01</td>\n",
       "      <td>1.489000e+01</td>\n",
       "      <td>1.484400e+01</td>\n",
       "      <td>1.486866e+01</td>\n",
       "      <td>1.332360e+03</td>\n",
       "      <td>1.486720e+01</td>\n",
       "      <td>-4.289820e-05</td>\n",
       "    </tr>\n",
       "    <tr>\n",
       "      <th>75%</th>\n",
       "      <td>1.606979e+09</td>\n",
       "      <td>9.000000e+00</td>\n",
       "      <td>2.310000e+02</td>\n",
       "      <td>2.349650e+02</td>\n",
       "      <td>2.353800e+02</td>\n",
       "      <td>2.345200e+02</td>\n",
       "      <td>2.349686e+02</td>\n",
       "      <td>2.911512e+04</td>\n",
       "      <td>2.349653e+02</td>\n",
       "      <td>1.601519e-03</td>\n",
       "    </tr>\n",
       "    <tr>\n",
       "      <th>max</th>\n",
       "      <td>1.632181e+09</td>\n",
       "      <td>1.300000e+01</td>\n",
       "      <td>1.650160e+05</td>\n",
       "      <td>6.480595e+04</td>\n",
       "      <td>6.490000e+04</td>\n",
       "      <td>6.467053e+04</td>\n",
       "      <td>6.480854e+04</td>\n",
       "      <td>7.597554e+08</td>\n",
       "      <td>inf</td>\n",
       "      <td>9.641699e-01</td>\n",
       "    </tr>\n",
       "  </tbody>\n",
       "</table>\n",
       "</div>"
      ],
      "text/plain": [
       "          timestamp      Asset_ID         Count          Open          High  \\\n",
       "count  2.348646e+07  2.348646e+07  2.348646e+07  2.348646e+07  2.348646e+07   \n",
       "mean   1.577541e+09  6.224257e+00  2.954030e+02  1.476052e+03  1.479876e+03   \n",
       "std    3.333367e+07  4.099476e+00  8.796244e+02  6.119951e+03  6.129966e+03   \n",
       "min    1.514765e+09  0.000000e+00  1.000000e+00  1.170400e-03  1.195000e-03   \n",
       "25%    1.549306e+09  3.000000e+00  2.200000e+01  2.808670e-01  2.819000e-01   \n",
       "50%    1.578971e+09  6.000000e+00  6.900000e+01  1.486842e+01  1.489000e+01   \n",
       "75%    1.606979e+09  9.000000e+00  2.310000e+02  2.349650e+02  2.353800e+02   \n",
       "max    1.632181e+09  1.300000e+01  1.650160e+05  6.480595e+04  6.490000e+04   \n",
       "\n",
       "                Low         Close        Volume          VWAP        Target  \n",
       "count  2.348646e+07  2.348646e+07  2.348646e+07  2.348646e+07  2.348646e+07  \n",
       "mean   1.472882e+03  1.476051e+03  2.947318e+05           NaN  7.121870e-06  \n",
       "std    6.110472e+03  6.119956e+03  2.471421e+06           NaN  5.679042e-03  \n",
       "min    2.000000e-04  1.171400e-03 -3.662812e-01          -inf -5.093510e-01  \n",
       "25%    2.800000e-01  2.808737e-01  1.493896e+02  2.808644e-01 -1.694353e-03  \n",
       "50%    1.484400e+01  1.486866e+01  1.332360e+03  1.486720e+01 -4.289820e-05  \n",
       "75%    2.345200e+02  2.349686e+02  2.911512e+04  2.349653e+02  1.601519e-03  \n",
       "max    6.467053e+04  6.480854e+04  7.597554e+08           inf  9.641699e-01  "
      ]
     },
     "execution_count": 10,
     "metadata": {},
     "output_type": "execute_result"
    }
   ],
   "source": [
    "dtf_description_train = train_csv.describe()\n",
    "dtf_description_train"
   ]
  },
  {
   "cell_type": "code",
   "execution_count": 11,
   "id": "72e03de1",
   "metadata": {
    "scrolled": true
   },
   "outputs": [
    {
     "data": {
      "text/html": [
       "<div>\n",
       "<style scoped>\n",
       "    .dataframe tbody tr th:only-of-type {\n",
       "        vertical-align: middle;\n",
       "    }\n",
       "\n",
       "    .dataframe tbody tr th {\n",
       "        vertical-align: top;\n",
       "    }\n",
       "\n",
       "    .dataframe thead th {\n",
       "        text-align: right;\n",
       "    }\n",
       "</style>\n",
       "<table border=\"1\" class=\"dataframe\">\n",
       "  <thead>\n",
       "    <tr style=\"text-align: right;\">\n",
       "      <th></th>\n",
       "      <th>timestamp</th>\n",
       "      <th>Asset_ID</th>\n",
       "      <th>Count</th>\n",
       "      <th>Open</th>\n",
       "      <th>High</th>\n",
       "      <th>Low</th>\n",
       "      <th>Close</th>\n",
       "      <th>Volume</th>\n",
       "      <th>VWAP</th>\n",
       "      <th>group_num</th>\n",
       "      <th>row_id</th>\n",
       "    </tr>\n",
       "  </thead>\n",
       "  <tbody>\n",
       "    <tr>\n",
       "      <th>count</th>\n",
       "      <td>5.600000e+01</td>\n",
       "      <td>56.00000</td>\n",
       "      <td>56.000000</td>\n",
       "      <td>56.000000</td>\n",
       "      <td>56.000000</td>\n",
       "      <td>56.000000</td>\n",
       "      <td>56.000000</td>\n",
       "      <td>5.600000e+01</td>\n",
       "      <td>56.000000</td>\n",
       "      <td>56.000000</td>\n",
       "      <td>56.000000</td>\n",
       "    </tr>\n",
       "    <tr>\n",
       "      <th>mean</th>\n",
       "      <td>1.623542e+09</td>\n",
       "      <td>6.50000</td>\n",
       "      <td>739.535714</td>\n",
       "      <td>3017.680422</td>\n",
       "      <td>3021.572698</td>\n",
       "      <td>3010.191113</td>\n",
       "      <td>3015.398331</td>\n",
       "      <td>4.440252e+05</td>\n",
       "      <td>3015.895414</td>\n",
       "      <td>1.500000</td>\n",
       "      <td>27.500000</td>\n",
       "    </tr>\n",
       "    <tr>\n",
       "      <th>std</th>\n",
       "      <td>6.768913e+01</td>\n",
       "      <td>4.06761</td>\n",
       "      <td>806.311917</td>\n",
       "      <td>9148.328623</td>\n",
       "      <td>9159.452237</td>\n",
       "      <td>9125.151477</td>\n",
       "      <td>9141.188374</td>\n",
       "      <td>1.027897e+06</td>\n",
       "      <td>9142.300540</td>\n",
       "      <td>1.128152</td>\n",
       "      <td>16.309506</td>\n",
       "    </tr>\n",
       "    <tr>\n",
       "      <th>min</th>\n",
       "      <td>1.623542e+09</td>\n",
       "      <td>0.00000</td>\n",
       "      <td>34.000000</td>\n",
       "      <td>0.068015</td>\n",
       "      <td>0.068055</td>\n",
       "      <td>0.067866</td>\n",
       "      <td>0.067936</td>\n",
       "      <td>1.187095e+00</td>\n",
       "      <td>0.067958</td>\n",
       "      <td>0.000000</td>\n",
       "      <td>0.000000</td>\n",
       "    </tr>\n",
       "    <tr>\n",
       "      <th>25%</th>\n",
       "      <td>1.623542e+09</td>\n",
       "      <td>3.00000</td>\n",
       "      <td>258.000000</td>\n",
       "      <td>1.002400</td>\n",
       "      <td>1.018800</td>\n",
       "      <td>0.983500</td>\n",
       "      <td>1.000538</td>\n",
       "      <td>6.911536e+02</td>\n",
       "      <td>1.000546</td>\n",
       "      <td>0.750000</td>\n",
       "      <td>13.750000</td>\n",
       "    </tr>\n",
       "    <tr>\n",
       "      <th>50%</th>\n",
       "      <td>1.623542e+09</td>\n",
       "      <td>6.50000</td>\n",
       "      <td>448.500000</td>\n",
       "      <td>108.591617</td>\n",
       "      <td>108.712000</td>\n",
       "      <td>108.226000</td>\n",
       "      <td>108.414840</td>\n",
       "      <td>2.494379e+03</td>\n",
       "      <td>108.447083</td>\n",
       "      <td>1.500000</td>\n",
       "      <td>27.500000</td>\n",
       "    </tr>\n",
       "    <tr>\n",
       "      <th>75%</th>\n",
       "      <td>1.623543e+09</td>\n",
       "      <td>10.00000</td>\n",
       "      <td>891.750000</td>\n",
       "      <td>580.817500</td>\n",
       "      <td>582.975000</td>\n",
       "      <td>579.692500</td>\n",
       "      <td>580.974167</td>\n",
       "      <td>2.965427e+05</td>\n",
       "      <td>581.061773</td>\n",
       "      <td>2.250000</td>\n",
       "      <td>41.250000</td>\n",
       "    </tr>\n",
       "    <tr>\n",
       "      <th>max</th>\n",
       "      <td>1.623543e+09</td>\n",
       "      <td>13.00000</td>\n",
       "      <td>3531.000000</td>\n",
       "      <td>35596.771429</td>\n",
       "      <td>35652.464650</td>\n",
       "      <td>35533.380000</td>\n",
       "      <td>35602.004286</td>\n",
       "      <td>4.981365e+06</td>\n",
       "      <td>35584.861196</td>\n",
       "      <td>3.000000</td>\n",
       "      <td>55.000000</td>\n",
       "    </tr>\n",
       "  </tbody>\n",
       "</table>\n",
       "</div>"
      ],
      "text/plain": [
       "          timestamp  Asset_ID        Count          Open          High  \\\n",
       "count  5.600000e+01  56.00000    56.000000     56.000000     56.000000   \n",
       "mean   1.623542e+09   6.50000   739.535714   3017.680422   3021.572698   \n",
       "std    6.768913e+01   4.06761   806.311917   9148.328623   9159.452237   \n",
       "min    1.623542e+09   0.00000    34.000000      0.068015      0.068055   \n",
       "25%    1.623542e+09   3.00000   258.000000      1.002400      1.018800   \n",
       "50%    1.623542e+09   6.50000   448.500000    108.591617    108.712000   \n",
       "75%    1.623543e+09  10.00000   891.750000    580.817500    582.975000   \n",
       "max    1.623543e+09  13.00000  3531.000000  35596.771429  35652.464650   \n",
       "\n",
       "                Low         Close        Volume          VWAP  group_num  \\\n",
       "count     56.000000     56.000000  5.600000e+01     56.000000  56.000000   \n",
       "mean    3010.191113   3015.398331  4.440252e+05   3015.895414   1.500000   \n",
       "std     9125.151477   9141.188374  1.027897e+06   9142.300540   1.128152   \n",
       "min        0.067866      0.067936  1.187095e+00      0.067958   0.000000   \n",
       "25%        0.983500      1.000538  6.911536e+02      1.000546   0.750000   \n",
       "50%      108.226000    108.414840  2.494379e+03    108.447083   1.500000   \n",
       "75%      579.692500    580.974167  2.965427e+05    581.061773   2.250000   \n",
       "max    35533.380000  35602.004286  4.981365e+06  35584.861196   3.000000   \n",
       "\n",
       "          row_id  \n",
       "count  56.000000  \n",
       "mean   27.500000  \n",
       "std    16.309506  \n",
       "min     0.000000  \n",
       "25%    13.750000  \n",
       "50%    27.500000  \n",
       "75%    41.250000  \n",
       "max    55.000000  "
      ]
     },
     "execution_count": 11,
     "metadata": {},
     "output_type": "execute_result"
    }
   ],
   "source": [
    "dtf_description_test = test_csv.describe()\n",
    "dtf_description_test"
   ]
  },
  {
   "cell_type": "code",
   "execution_count": 12,
   "id": "dbe6aee0",
   "metadata": {},
   "outputs": [
    {
     "data": {
      "text/html": [
       "<div>\n",
       "<style scoped>\n",
       "    .dataframe tbody tr th:only-of-type {\n",
       "        vertical-align: middle;\n",
       "    }\n",
       "\n",
       "    .dataframe tbody tr th {\n",
       "        vertical-align: top;\n",
       "    }\n",
       "\n",
       "    .dataframe thead th {\n",
       "        text-align: right;\n",
       "    }\n",
       "</style>\n",
       "<table border=\"1\" class=\"dataframe\">\n",
       "  <thead>\n",
       "    <tr style=\"text-align: right;\">\n",
       "      <th></th>\n",
       "      <th>group_num</th>\n",
       "      <th>row_id</th>\n",
       "      <th>Target</th>\n",
       "    </tr>\n",
       "  </thead>\n",
       "  <tbody>\n",
       "    <tr>\n",
       "      <th>count</th>\n",
       "      <td>56.000000</td>\n",
       "      <td>56.000000</td>\n",
       "      <td>56.0</td>\n",
       "    </tr>\n",
       "    <tr>\n",
       "      <th>mean</th>\n",
       "      <td>1.500000</td>\n",
       "      <td>27.500000</td>\n",
       "      <td>0.0</td>\n",
       "    </tr>\n",
       "    <tr>\n",
       "      <th>std</th>\n",
       "      <td>1.128152</td>\n",
       "      <td>16.309506</td>\n",
       "      <td>0.0</td>\n",
       "    </tr>\n",
       "    <tr>\n",
       "      <th>min</th>\n",
       "      <td>0.000000</td>\n",
       "      <td>0.000000</td>\n",
       "      <td>0.0</td>\n",
       "    </tr>\n",
       "    <tr>\n",
       "      <th>25%</th>\n",
       "      <td>0.750000</td>\n",
       "      <td>13.750000</td>\n",
       "      <td>0.0</td>\n",
       "    </tr>\n",
       "    <tr>\n",
       "      <th>50%</th>\n",
       "      <td>1.500000</td>\n",
       "      <td>27.500000</td>\n",
       "      <td>0.0</td>\n",
       "    </tr>\n",
       "    <tr>\n",
       "      <th>75%</th>\n",
       "      <td>2.250000</td>\n",
       "      <td>41.250000</td>\n",
       "      <td>0.0</td>\n",
       "    </tr>\n",
       "    <tr>\n",
       "      <th>max</th>\n",
       "      <td>3.000000</td>\n",
       "      <td>55.000000</td>\n",
       "      <td>0.0</td>\n",
       "    </tr>\n",
       "  </tbody>\n",
       "</table>\n",
       "</div>"
      ],
      "text/plain": [
       "       group_num     row_id  Target\n",
       "count  56.000000  56.000000    56.0\n",
       "mean    1.500000  27.500000     0.0\n",
       "std     1.128152  16.309506     0.0\n",
       "min     0.000000   0.000000     0.0\n",
       "25%     0.750000  13.750000     0.0\n",
       "50%     1.500000  27.500000     0.0\n",
       "75%     2.250000  41.250000     0.0\n",
       "max     3.000000  55.000000     0.0"
      ]
     },
     "execution_count": 12,
     "metadata": {},
     "output_type": "execute_result"
    }
   ],
   "source": [
    "dtf_description_sample = samples_submission_csv.describe()\n",
    "dtf_description_sample"
   ]
  },
  {
   "cell_type": "code",
   "execution_count": 13,
   "id": "a513bbf2",
   "metadata": {
    "scrolled": true
   },
   "outputs": [
    {
     "data": {
      "text/html": [
       "<div>\n",
       "<style scoped>\n",
       "    .dataframe tbody tr th:only-of-type {\n",
       "        vertical-align: middle;\n",
       "    }\n",
       "\n",
       "    .dataframe tbody tr th {\n",
       "        vertical-align: top;\n",
       "    }\n",
       "\n",
       "    .dataframe thead th {\n",
       "        text-align: right;\n",
       "    }\n",
       "</style>\n",
       "<table border=\"1\" class=\"dataframe\">\n",
       "  <thead>\n",
       "    <tr style=\"text-align: right;\">\n",
       "      <th></th>\n",
       "      <th>Asset_ID</th>\n",
       "      <th>Weight</th>\n",
       "    </tr>\n",
       "  </thead>\n",
       "  <tbody>\n",
       "    <tr>\n",
       "      <th>count</th>\n",
       "      <td>14.0000</td>\n",
       "      <td>14.000000</td>\n",
       "    </tr>\n",
       "    <tr>\n",
       "      <th>mean</th>\n",
       "      <td>6.5000</td>\n",
       "      <td>2.919989</td>\n",
       "    </tr>\n",
       "    <tr>\n",
       "      <th>std</th>\n",
       "      <td>4.1833</td>\n",
       "      <td>1.801957</td>\n",
       "    </tr>\n",
       "    <tr>\n",
       "      <th>min</th>\n",
       "      <td>0.0000</td>\n",
       "      <td>1.098612</td>\n",
       "    </tr>\n",
       "    <tr>\n",
       "      <th>25%</th>\n",
       "      <td>3.2500</td>\n",
       "      <td>1.655018</td>\n",
       "    </tr>\n",
       "    <tr>\n",
       "      <th>50%</th>\n",
       "      <td>6.5000</td>\n",
       "      <td>2.238668</td>\n",
       "    </tr>\n",
       "    <tr>\n",
       "      <th>75%</th>\n",
       "      <td>9.7500</td>\n",
       "      <td>4.116886</td>\n",
       "    </tr>\n",
       "    <tr>\n",
       "      <th>max</th>\n",
       "      <td>13.0000</td>\n",
       "      <td>6.779922</td>\n",
       "    </tr>\n",
       "  </tbody>\n",
       "</table>\n",
       "</div>"
      ],
      "text/plain": [
       "       Asset_ID     Weight\n",
       "count   14.0000  14.000000\n",
       "mean     6.5000   2.919989\n",
       "std      4.1833   1.801957\n",
       "min      0.0000   1.098612\n",
       "25%      3.2500   1.655018\n",
       "50%      6.5000   2.238668\n",
       "75%      9.7500   4.116886\n",
       "max     13.0000   6.779922"
      ]
     },
     "execution_count": 13,
     "metadata": {},
     "output_type": "execute_result"
    }
   ],
   "source": [
    "dtf_description_asset = asset_csv.describe()\n",
    "dtf_description_asset"
   ]
  },
  {
   "cell_type": "code",
   "execution_count": 14,
   "id": "ecf65f5a",
   "metadata": {},
   "outputs": [
    {
     "data": {
      "text/html": [
       "<div>\n",
       "<style scoped>\n",
       "    .dataframe tbody tr th:only-of-type {\n",
       "        vertical-align: middle;\n",
       "    }\n",
       "\n",
       "    .dataframe tbody tr th {\n",
       "        vertical-align: top;\n",
       "    }\n",
       "\n",
       "    .dataframe thead th {\n",
       "        text-align: right;\n",
       "    }\n",
       "</style>\n",
       "<table border=\"1\" class=\"dataframe\">\n",
       "  <thead>\n",
       "    <tr style=\"text-align: right;\">\n",
       "      <th></th>\n",
       "      <th>timestamp</th>\n",
       "      <th>Asset_ID</th>\n",
       "      <th>Count</th>\n",
       "      <th>Open</th>\n",
       "      <th>High</th>\n",
       "      <th>Low</th>\n",
       "      <th>Close</th>\n",
       "      <th>Volume</th>\n",
       "      <th>VWAP</th>\n",
       "      <th>Target</th>\n",
       "    </tr>\n",
       "  </thead>\n",
       "  <tbody>\n",
       "    <tr>\n",
       "      <th>count</th>\n",
       "      <td>2.015112e+06</td>\n",
       "      <td>2.015112e+06</td>\n",
       "      <td>2.015112e+06</td>\n",
       "      <td>2.015112e+06</td>\n",
       "      <td>2.015112e+06</td>\n",
       "      <td>2.015112e+06</td>\n",
       "      <td>2.015112e+06</td>\n",
       "      <td>2.015112e+06</td>\n",
       "      <td>2.015112e+06</td>\n",
       "      <td>2.013377e+06</td>\n",
       "    </tr>\n",
       "    <tr>\n",
       "      <th>mean</th>\n",
       "      <td>1.627863e+09</td>\n",
       "      <td>6.499139e+00</td>\n",
       "      <td>5.163656e+02</td>\n",
       "      <td>3.408915e+03</td>\n",
       "      <td>3.412519e+03</td>\n",
       "      <td>3.405373e+03</td>\n",
       "      <td>3.408919e+03</td>\n",
       "      <td>3.386617e+05</td>\n",
       "      <td>3.408879e+03</td>\n",
       "      <td>2.409469e-06</td>\n",
       "    </tr>\n",
       "    <tr>\n",
       "      <th>std</th>\n",
       "      <td>2.494254e+06</td>\n",
       "      <td>4.031342e+00</td>\n",
       "      <td>1.060273e+03</td>\n",
       "      <td>1.052321e+04</td>\n",
       "      <td>1.053392e+04</td>\n",
       "      <td>1.051262e+04</td>\n",
       "      <td>1.052323e+04</td>\n",
       "      <td>1.387742e+06</td>\n",
       "      <td>1.052310e+04</td>\n",
       "      <td>4.333439e-03</td>\n",
       "    </tr>\n",
       "    <tr>\n",
       "      <th>min</th>\n",
       "      <td>1.623542e+09</td>\n",
       "      <td>0.000000e+00</td>\n",
       "      <td>1.000000e+00</td>\n",
       "      <td>4.652540e-02</td>\n",
       "      <td>4.695000e-02</td>\n",
       "      <td>4.637000e-02</td>\n",
       "      <td>4.652140e-02</td>\n",
       "      <td>9.610000e-06</td>\n",
       "      <td>4.654178e-02</td>\n",
       "      <td>-7.880525e-02</td>\n",
       "    </tr>\n",
       "    <tr>\n",
       "      <th>25%</th>\n",
       "      <td>1.625702e+09</td>\n",
       "      <td>3.000000e+00</td>\n",
       "      <td>8.200000e+01</td>\n",
       "      <td>9.160500e-01</td>\n",
       "      <td>9.381000e-01</td>\n",
       "      <td>8.970000e-01</td>\n",
       "      <td>9.160000e-01</td>\n",
       "      <td>1.457512e+02</td>\n",
       "      <td>9.159005e-01</td>\n",
       "      <td>-1.380767e-03</td>\n",
       "    </tr>\n",
       "    <tr>\n",
       "      <th>50%</th>\n",
       "      <td>1.627864e+09</td>\n",
       "      <td>6.000000e+00</td>\n",
       "      <td>2.010000e+02</td>\n",
       "      <td>7.554037e+01</td>\n",
       "      <td>7.578950e+01</td>\n",
       "      <td>7.535660e+01</td>\n",
       "      <td>7.553027e+01</td>\n",
       "      <td>1.352555e+03</td>\n",
       "      <td>7.553674e+01</td>\n",
       "      <td>-6.469021e-05</td>\n",
       "    </tr>\n",
       "    <tr>\n",
       "      <th>75%</th>\n",
       "      <td>1.630023e+09</td>\n",
       "      <td>1.000000e+01</td>\n",
       "      <td>5.390000e+02</td>\n",
       "      <td>5.637334e+02</td>\n",
       "      <td>5.642800e+02</td>\n",
       "      <td>5.631500e+02</td>\n",
       "      <td>5.637578e+02</td>\n",
       "      <td>1.021959e+05</td>\n",
       "      <td>5.637045e+02</td>\n",
       "      <td>1.251661e-03</td>\n",
       "    </tr>\n",
       "    <tr>\n",
       "      <th>max</th>\n",
       "      <td>1.632182e+09</td>\n",
       "      <td>1.300000e+01</td>\n",
       "      <td>8.747800e+04</td>\n",
       "      <td>5.288442e+04</td>\n",
       "      <td>5.295647e+04</td>\n",
       "      <td>5.285604e+04</td>\n",
       "      <td>5.288209e+04</td>\n",
       "      <td>1.261933e+08</td>\n",
       "      <td>5.289832e+04</td>\n",
       "      <td>2.112271e-01</td>\n",
       "    </tr>\n",
       "  </tbody>\n",
       "</table>\n",
       "</div>"
      ],
      "text/plain": [
       "          timestamp      Asset_ID         Count          Open          High  \\\n",
       "count  2.015112e+06  2.015112e+06  2.015112e+06  2.015112e+06  2.015112e+06   \n",
       "mean   1.627863e+09  6.499139e+00  5.163656e+02  3.408915e+03  3.412519e+03   \n",
       "std    2.494254e+06  4.031342e+00  1.060273e+03  1.052321e+04  1.053392e+04   \n",
       "min    1.623542e+09  0.000000e+00  1.000000e+00  4.652540e-02  4.695000e-02   \n",
       "25%    1.625702e+09  3.000000e+00  8.200000e+01  9.160500e-01  9.381000e-01   \n",
       "50%    1.627864e+09  6.000000e+00  2.010000e+02  7.554037e+01  7.578950e+01   \n",
       "75%    1.630023e+09  1.000000e+01  5.390000e+02  5.637334e+02  5.642800e+02   \n",
       "max    1.632182e+09  1.300000e+01  8.747800e+04  5.288442e+04  5.295647e+04   \n",
       "\n",
       "                Low         Close        Volume          VWAP        Target  \n",
       "count  2.015112e+06  2.015112e+06  2.015112e+06  2.015112e+06  2.013377e+06  \n",
       "mean   3.405373e+03  3.408919e+03  3.386617e+05  3.408879e+03  2.409469e-06  \n",
       "std    1.051262e+04  1.052323e+04  1.387742e+06  1.052310e+04  4.333439e-03  \n",
       "min    4.637000e-02  4.652140e-02  9.610000e-06  4.654178e-02 -7.880525e-02  \n",
       "25%    8.970000e-01  9.160000e-01  1.457512e+02  9.159005e-01 -1.380767e-03  \n",
       "50%    7.535660e+01  7.553027e+01  1.352555e+03  7.553674e+01 -6.469021e-05  \n",
       "75%    5.631500e+02  5.637578e+02  1.021959e+05  5.637045e+02  1.251661e-03  \n",
       "max    5.285604e+04  5.288209e+04  1.261933e+08  5.289832e+04  2.112271e-01  "
      ]
     },
     "execution_count": 14,
     "metadata": {},
     "output_type": "execute_result"
    }
   ],
   "source": [
    "dtf_supplemental_train= supplemental_train.describe()\n",
    "dtf_supplemental_train"
   ]
  },
  {
   "cell_type": "markdown",
   "id": "95d32b33",
   "metadata": {},
   "source": [
    "# Do not Run\n",
    "\n",
    "train_csv otherwise the kernel will die"
   ]
  },
  {
   "cell_type": "markdown",
   "id": "635d132e",
   "metadata": {},
   "source": [
    "# Number of entries that are null/void"
   ]
  },
  {
   "cell_type": "code",
   "execution_count": 15,
   "id": "7dc34ad7",
   "metadata": {},
   "outputs": [
    {
     "data": {
      "text/plain": [
       "[]"
      ]
     },
     "execution_count": 15,
     "metadata": {},
     "output_type": "execute_result"
    }
   ],
   "source": [
    "def list_null(dataset, feature, per):\n",
    "    # Input\n",
    "    # dataset: the selected dataset\n",
    "    # feature: the name of the feature\n",
    "    # per: the percentage of row that are void vs the whole column\n",
    "    # output\n",
    "    # list the column with a void percentage higher than per\n",
    "    res = []\n",
    "    for f in feature:\n",
    "        #print(\"feature: {} number of missing value: {} \\n the lengt of the dataset is {} and the percentage of null value is {}\".format(f, train_csv[f].isna().sum(), len(dataset), train_csv[f].isna().sum()/len(dataset)))\n",
    "        if (dataset[f].isna().sum()/len(dataset)) > per:\n",
    "            res.append(f)\n",
    "        \n",
    "    return res\n",
    "\n",
    "list_null(train_csv, train_csv.columns, 0.001)\n"
   ]
  },
  {
   "cell_type": "markdown",
   "id": "ca45c190",
   "metadata": {},
   "source": [
    "# Distribution info"
   ]
  },
  {
   "cell_type": "code",
   "execution_count": 16,
   "id": "f6649d83",
   "metadata": {
    "scrolled": false
   },
   "outputs": [
    {
     "data": {
      "text/plain": [
       "\"y = train_csv_nnan['Target']\\nplt.figure(1); plt.title('Johnson SU')\\nsns.distplot(y, kde=False, fit=stats.johnsonsu)\\nplt.figure(2); plt.title('Normal')\\nsns.distplot(y, kde=False, fit=stats.norm)\\nplt.figure(3); plt.title('Log Normal')\\nsns.distplot(y, kde=False, fit=stats.lognorm)\""
      ]
     },
     "execution_count": 16,
     "metadata": {},
     "output_type": "execute_result"
    }
   ],
   "source": [
    "'''y = train_csv_nnan['Target']\n",
    "plt.figure(1); plt.title('Johnson SU')\n",
    "sns.distplot(y, kde=False, fit=stats.johnsonsu)\n",
    "plt.figure(2); plt.title('Normal')\n",
    "sns.distplot(y, kde=False, fit=stats.norm)\n",
    "plt.figure(3); plt.title('Log Normal')\n",
    "sns.distplot(y, kde=False, fit=stats.lognorm)'''\n",
    "\n",
    "# Note: output is highly concentrated around 0"
   ]
  },
  {
   "cell_type": "markdown",
   "id": "3dc81aad",
   "metadata": {},
   "source": [
    "# Datashowcase"
   ]
  },
  {
   "cell_type": "code",
   "execution_count": 17,
   "id": "7d907fc3",
   "metadata": {},
   "outputs": [
    {
     "data": {
      "text/plain": [
       "0   -0.004218\n",
       "1   -0.014399\n",
       "2   -0.014643\n",
       "3   -0.013922\n",
       "4   -0.008264\n",
       "5   -0.004809\n",
       "6   -0.009791\n",
       "8   -0.004079\n",
       "9   -0.015875\n",
       "Name: Target, dtype: float32"
      ]
     },
     "execution_count": 17,
     "metadata": {},
     "output_type": "execute_result"
    }
   ],
   "source": [
    "train_csv.Target[0:9]"
   ]
  },
  {
   "cell_type": "code",
   "execution_count": 21,
   "id": "b753e071",
   "metadata": {},
   "outputs": [
    {
     "ename": "AttributeError",
     "evalue": "'DataFrame' object has no attribute 'value'",
     "output_type": "error",
     "traceback": [
      "\u001b[0;31m---------------------------------------------------------------------------\u001b[0m",
      "\u001b[0;31mAttributeError\u001b[0m                            Traceback (most recent call last)",
      "\u001b[0;32m<ipython-input-21-a42ab9f6bc64>\u001b[0m in \u001b[0;36m<module>\u001b[0;34m\u001b[0m\n\u001b[1;32m      1\u001b[0m \u001b[0mfig\u001b[0m\u001b[0;34m,\u001b[0m \u001b[0maxes\u001b[0m \u001b[0;34m=\u001b[0m \u001b[0mplt\u001b[0m\u001b[0;34m.\u001b[0m\u001b[0msubplots\u001b[0m\u001b[0;34m(\u001b[0m\u001b[0;36m3\u001b[0m\u001b[0;34m,\u001b[0m \u001b[0;36m2\u001b[0m\u001b[0;34m,\u001b[0m \u001b[0msharex\u001b[0m\u001b[0;34m=\u001b[0m\u001b[0;32mTrue\u001b[0m\u001b[0;34m)\u001b[0m\u001b[0;34m\u001b[0m\u001b[0;34m\u001b[0m\u001b[0m\n\u001b[0;32m----> 2\u001b[0;31m \u001b[0maxes\u001b[0m\u001b[0;34m[\u001b[0m\u001b[0;36m0\u001b[0m\u001b[0;34m,\u001b[0m \u001b[0;36m0\u001b[0m\u001b[0;34m]\u001b[0m\u001b[0;34m.\u001b[0m\u001b[0mplot\u001b[0m\u001b[0;34m(\u001b[0m\u001b[0mtrain_csv\u001b[0m\u001b[0;34m.\u001b[0m\u001b[0mvalue\u001b[0m\u001b[0;34m)\u001b[0m\u001b[0;34m\u001b[0m\u001b[0;34m\u001b[0m\u001b[0m\n\u001b[0m\u001b[1;32m      3\u001b[0m \u001b[0maxes\u001b[0m\u001b[0;34m[\u001b[0m\u001b[0;36m0\u001b[0m\u001b[0;34m,\u001b[0m\u001b[0;36m0\u001b[0m\u001b[0;34m]\u001b[0m\u001b[0;34m.\u001b[0m\u001b[0mset_title\u001b[0m\u001b[0;34m(\u001b[0m\u001b[0;34m'Original Series'\u001b[0m\u001b[0;34m)\u001b[0m\u001b[0;34m\u001b[0m\u001b[0;34m\u001b[0m\u001b[0m\n\u001b[1;32m      4\u001b[0m \u001b[0mplot_acf\u001b[0m\u001b[0;34m(\u001b[0m\u001b[0mtrain_csv\u001b[0m\u001b[0;34m.\u001b[0m\u001b[0mvalue\u001b[0m\u001b[0;34m,\u001b[0m \u001b[0max\u001b[0m\u001b[0;34m=\u001b[0m\u001b[0maxes\u001b[0m\u001b[0;34m[\u001b[0m\u001b[0;36m0\u001b[0m\u001b[0;34m,\u001b[0m \u001b[0;36m1\u001b[0m\u001b[0;34m]\u001b[0m\u001b[0;34m)\u001b[0m\u001b[0;34m\u001b[0m\u001b[0;34m\u001b[0m\u001b[0m\n",
      "\u001b[0;32m~/anaconda3/envs/work_env/lib/python3.9/site-packages/pandas/core/generic.py\u001b[0m in \u001b[0;36m__getattr__\u001b[0;34m(self, name)\u001b[0m\n\u001b[1;32m   5463\u001b[0m             \u001b[0;32mif\u001b[0m \u001b[0mself\u001b[0m\u001b[0;34m.\u001b[0m\u001b[0m_info_axis\u001b[0m\u001b[0;34m.\u001b[0m\u001b[0m_can_hold_identifiers_and_holds_name\u001b[0m\u001b[0;34m(\u001b[0m\u001b[0mname\u001b[0m\u001b[0;34m)\u001b[0m\u001b[0;34m:\u001b[0m\u001b[0;34m\u001b[0m\u001b[0;34m\u001b[0m\u001b[0m\n\u001b[1;32m   5464\u001b[0m                 \u001b[0;32mreturn\u001b[0m \u001b[0mself\u001b[0m\u001b[0;34m[\u001b[0m\u001b[0mname\u001b[0m\u001b[0;34m]\u001b[0m\u001b[0;34m\u001b[0m\u001b[0;34m\u001b[0m\u001b[0m\n\u001b[0;32m-> 5465\u001b[0;31m             \u001b[0;32mreturn\u001b[0m \u001b[0mobject\u001b[0m\u001b[0;34m.\u001b[0m\u001b[0m__getattribute__\u001b[0m\u001b[0;34m(\u001b[0m\u001b[0mself\u001b[0m\u001b[0;34m,\u001b[0m \u001b[0mname\u001b[0m\u001b[0;34m)\u001b[0m\u001b[0;34m\u001b[0m\u001b[0;34m\u001b[0m\u001b[0m\n\u001b[0m\u001b[1;32m   5466\u001b[0m \u001b[0;34m\u001b[0m\u001b[0m\n\u001b[1;32m   5467\u001b[0m     \u001b[0;32mdef\u001b[0m \u001b[0m__setattr__\u001b[0m\u001b[0;34m(\u001b[0m\u001b[0mself\u001b[0m\u001b[0;34m,\u001b[0m \u001b[0mname\u001b[0m\u001b[0;34m:\u001b[0m \u001b[0mstr\u001b[0m\u001b[0;34m,\u001b[0m \u001b[0mvalue\u001b[0m\u001b[0;34m)\u001b[0m \u001b[0;34m->\u001b[0m \u001b[0;32mNone\u001b[0m\u001b[0;34m:\u001b[0m\u001b[0;34m\u001b[0m\u001b[0;34m\u001b[0m\u001b[0m\n",
      "\u001b[0;31mAttributeError\u001b[0m: 'DataFrame' object has no attribute 'value'"
     ]
    },
    {
     "data": {
      "image/png": "[encoded data removed]",
      "text/plain": [
       "<Figure size 432x288 with 6 Axes>"
      ]
     },
     "metadata": {
      "needs_background": "light"
     },
     "output_type": "display_data"
    }
   ],
   "source": [
    "fig, axes = plt.subplots(3, 2, sharex=True)\n",
    "axes[0, 0].plot(train_csv.value)\n",
    "axes[0,0].set_title('Original Series')\n",
    "plot_acf(train_csv.value, ax=axes[0, 1])"
   ]
  },
  {
   "cell_type": "markdown",
   "id": "dc473411",
   "metadata": {},
   "source": [
    "# Dataset preparation"
   ]
  },
  {
   "cell_type": "code",
   "execution_count": 32,
   "id": "44a59b17",
   "metadata": {},
   "outputs": [],
   "source": [
    "class TimeSeriesDataset (Dataset):\n",
    "    def __init__(self, X, y, seq_len=1):\n",
    "        self.X = X\n",
    "        self.y = y\n",
    "        self.seq_len = seq_len\n",
    "    \n",
    "    def __len__(self):\n",
    "        return self.X.__len__() - (self.seq_len-1)\n",
    "    \n",
    "    def __getitem__(self, index):\n",
    "        return (self.X[index:index+self.seq_len], self.y[index+self.seq_len-1])"
   ]
  },
  {
   "cell_type": "markdown",
   "id": "5298f62a",
   "metadata": {},
   "source": [
    "# Dataloader"
   ]
  },
  {
   "cell_type": "code",
   "execution_count": 36,
   "id": "0f0aa52b",
   "metadata": {},
   "outputs": [
    {
     "ename": "NameError",
     "evalue": "name 'X' is not defined",
     "output_type": "error",
     "traceback": [
      "\u001b[0;31m---------------------------------------------------------------------------\u001b[0m",
      "\u001b[0;31mNameError\u001b[0m                                 Traceback (most recent call last)",
      "\u001b[0;32m<ipython-input-36-cf5d7301248e>\u001b[0m in \u001b[0;36m<module>\u001b[0;34m\u001b[0m\n\u001b[0;32m----> 1\u001b[0;31m \u001b[0mtrain_dataset\u001b[0m \u001b[0;34m=\u001b[0m \u001b[0mTimeSeriesDataset\u001b[0m\u001b[0;34m(\u001b[0m\u001b[0mX\u001b[0m\u001b[0;34m,\u001b[0m \u001b[0mtarget\u001b[0m\u001b[0;34m,\u001b[0m \u001b[0mseq_len\u001b[0m\u001b[0;34m=\u001b[0m\u001b[0;36m100\u001b[0m\u001b[0;34m)\u001b[0m\u001b[0;34m\u001b[0m\u001b[0;34m\u001b[0m\u001b[0m\n\u001b[0m\u001b[1;32m      2\u001b[0m \u001b[0mtrain_loader\u001b[0m \u001b[0;34m=\u001b[0m \u001b[0mtorch\u001b[0m\u001b[0;34m.\u001b[0m\u001b[0mutils\u001b[0m\u001b[0;34m.\u001b[0m\u001b[0mdata\u001b[0m\u001b[0;34m.\u001b[0m\u001b[0mDataLoader\u001b[0m\u001b[0;34m(\u001b[0m\u001b[0mtrain_dataset\u001b[0m\u001b[0;34m,\u001b[0m \u001b[0mbatch_size\u001b[0m \u001b[0;34m=\u001b[0m \u001b[0;36m50\u001b[0m\u001b[0;34m,\u001b[0m \u001b[0mshuffle\u001b[0m \u001b[0;34m=\u001b[0m \u001b[0;32mFalse\u001b[0m\u001b[0;34m)\u001b[0m\u001b[0;34m\u001b[0m\u001b[0;34m\u001b[0m\u001b[0m\n\u001b[1;32m      3\u001b[0m \u001b[0;34m\u001b[0m\u001b[0m\n\u001b[1;32m      4\u001b[0m \u001b[0;32mfor\u001b[0m \u001b[0mi\u001b[0m\u001b[0;34m,\u001b[0m \u001b[0md\u001b[0m \u001b[0;32min\u001b[0m \u001b[0menumerate\u001b[0m\u001b[0;34m(\u001b[0m\u001b[0mtrain_dataloader\u001b[0m\u001b[0;34m)\u001b[0m\u001b[0;34m:\u001b[0m\u001b[0;34m\u001b[0m\u001b[0;34m\u001b[0m\u001b[0m\n\u001b[1;32m      5\u001b[0m     \u001b[0mprint\u001b[0m\u001b[0;34m(\u001b[0m\u001b[0mi\u001b[0m\u001b[0;34m,\u001b[0m \u001b[0md\u001b[0m\u001b[0;34m[\u001b[0m\u001b[0;36m0\u001b[0m\u001b[0;34m]\u001b[0m\u001b[0;34m.\u001b[0m\u001b[0mshape\u001b[0m\u001b[0;34m,\u001b[0m \u001b[0md\u001b[0m\u001b[0;34m[\u001b[0m\u001b[0;36m1\u001b[0m\u001b[0;34m]\u001b[0m\u001b[0;34m.\u001b[0m\u001b[0mshape\u001b[0m\u001b[0;34m)\u001b[0m\u001b[0;34m\u001b[0m\u001b[0;34m\u001b[0m\u001b[0m\n",
      "\u001b[0;31mNameError\u001b[0m: name 'X' is not defined"
     ]
    }
   ],
   "source": [
    "train_dataset = TimeSeriesDataset(X, target, seq_len=100)\n",
    "train_loader = torch.utils.data.DataLoader(train_dataset, batch_size = 50, shuffle = False)\n",
    "\n",
    "for i, d in enumerate(train_dataloader):\n",
    "    print(i, d[0].shape, d[1].shape)"
   ]
  },
  {
   "cell_type": "markdown",
   "id": "455c35ff",
   "metadata": {},
   "source": [
    "# Define the RNN\n",
    "\n",
    "Next, we define an RNN in PyTorch. We'll use `nn.RNN` to create an RNN layer, then we'll add a last, fully-connected layer to get the output size that we want. An RNN takes in a number of parameters:\n",
    "* **input_size** - the size of the input\n",
    "* **hidden_dim** - the number of features in the RNN output and in the hidden state\n",
    "* **n_layers** - the number of layers that make up the RNN, typically 1-3; greater than 1 means that you'll create a stacked RNN\n",
    "* **batch_first** - whether or not the input/output of the RNN will have the batch_size as the first dimension (batch_size, seq_length, hidden_dim)\n",
    "\n",
    "Take a look at the [RNN documentation](https://pytorch.org/docs/stable/nn.html#rnn) to read more about recurrent layers."
   ]
  },
  {
   "cell_type": "code",
   "execution_count": null,
   "id": "63c78343",
   "metadata": {},
   "outputs": [],
   "source": [
    "class RNN(nn.Module):\n",
    "    def __init__(self, input_size, output_size, hidden_dim, n_layers):\n",
    "        super(RNN, self).__init__()\n",
    "        \n",
    "        self.hidden_dim=hidden_dim\n",
    "\n",
    "        # define an RNN with specified parameters\n",
    "        # batch_first means that the first dim of the input and output will be the batch_size\n",
    "        self.rnn = nn.RNN(input_size, hidden_dim, n_layers, batch_first=True)\n",
    "        \n",
    "        # last, fully-connected layer\n",
    "        self.fc = nn.Linear(hidden_dim, output_size)\n",
    "\n",
    "    def forward(self, x, hidden):\n",
    "        # x (batch_size, seq_length, input_size)\n",
    "        # hidden (n_layers, batch_size, hidden_dim)\n",
    "        # r_out (batch_size, time_step, hidden_size)\n",
    "        batch_size = x.size(0)\n",
    "        \n",
    "        # get RNN outputs\n",
    "        r_out, hidden = self.rnn(x, hidden)\n",
    "        # shape output to be (batch_size*seq_length, hidden_dim)\n",
    "        r_out = r_out.view(-1, self.hidden_dim)  \n",
    "        \n",
    "        # get final output \n",
    "        output = self.fc(r_out)\n",
    "        \n",
    "        return output, hidden"
   ]
  },
  {
   "cell_type": "markdown",
   "id": "b9f91f56",
   "metadata": {},
   "source": [
    "### Check the input and output dimensions\n",
    "\n",
    "As a check that your model is working as expected, test out how it responds to input data."
   ]
  },
  {
   "cell_type": "code",
   "execution_count": null,
   "id": "7502b487",
   "metadata": {},
   "outputs": [],
   "source": [
    "# test that dimensions are as expected\n",
    "test_rnn = RNN(input_size=1, output_size=1, hidden_dim=10, n_layers=2)\n",
    "\n",
    "# generate evenly spaced, test data pts\n",
    "''' time_steps = np.linspace(0, np.pi, seq_length)\n",
    "data = np.sin(time_steps)\n",
    "data.resize((seq_length, 1))'''\n",
    "\n",
    "test_input = torch.Tensor(data).unsqueeze(0) # give it a batch_size of 1 as first dimension\n",
    "print('Input size: ', test_input.size())\n",
    "\n",
    "# test out rnn sizes\n",
    "test_out, test_h = test_rnn(test_input, None)\n",
    "print('Output size: ', test_out.size())\n",
    "print('Hidden state size: ', test_h.size())"
   ]
  },
  {
   "cell_type": "markdown",
   "id": "dd5174d1",
   "metadata": {},
   "source": [
    "# Training the RNN"
   ]
  },
  {
   "cell_type": "code",
   "execution_count": null,
   "id": "1d61b534",
   "metadata": {},
   "outputs": [],
   "source": [
    "# decide on hyperparameters\n",
    "input_size=1 \n",
    "output_size=1\n",
    "hidden_dim=32\n",
    "n_layers=1\n",
    "\n",
    "# instantiate an RNN\n",
    "rnn = RNN(input_size, output_size, hidden_dim, n_layers)\n",
    "print(rnn)"
   ]
  },
  {
   "cell_type": "markdown",
   "id": "e24e39b9",
   "metadata": {},
   "source": [
    "### Loss and Optimization\n",
    "\n",
    "This is a regression problem: can we train an RNN to accurately predict the next data point, given a current data point?\n",
    "\n",
    ">* The data points are coordinate values, so to compare a predicted and ground_truth point, we'll use a regression loss: the mean squared error.\n",
    "* It's typical to use an Adam optimizer for recurrent models."
   ]
  },
  {
   "cell_type": "code",
   "execution_count": null,
   "id": "18a9868d",
   "metadata": {},
   "outputs": [],
   "source": [
    "# MSE loss and Adam optimizer with a learning rate of 0.01\n",
    "criterion = nn.MSELoss()\n",
    "optimizer = torch.optim.Adam(rnn.parameters(), lr=0.01) "
   ]
  },
  {
   "cell_type": "markdown",
   "id": "fad7d360",
   "metadata": {},
   "source": [
    "### Defining the training function\n",
    "\n",
    "This function takes in an rnn, a number of steps to train for, and returns a trained rnn. This function is also responsible for displaying the loss and the predictions, every so often.\n",
    "\n",
    "#### Hidden State\n",
    "\n",
    "Pay close attention to the hidden state, here:\n",
    "* Before looping over a batch of training data, the hidden state is initialized\n",
    "* After a new hidden state is generated by the rnn, we get the latest hidden state, and use that as input to the rnn for the following steps"
   ]
  },
  {
   "cell_type": "code",
   "execution_count": null,
   "id": "39c9c5ea",
   "metadata": {},
   "outputs": [],
   "source": [
    "# train the RNN\n",
    "def train(rnn, n_steps, print_every):\n",
    "    \n",
    "    # initialize the hidden state\n",
    "    hidden = None      \n",
    "    \n",
    "    for batch_i, step in enumerate(range(n_steps)):\n",
    "        # defining the training data \n",
    "        time_steps = np.linspace(step * np.pi, (step+1)*np.pi, seq_length + 1)\n",
    "        data = np.sin(time_steps)\n",
    "        data.resize((seq_length + 1, 1)) # input_size=1\n",
    "\n",
    "        x = data[:-1]\n",
    "        y = data[1:]\n",
    "        \n",
    "        # convert data into Tensors\n",
    "        x_tensor = torch.Tensor(x).unsqueeze(0) # unsqueeze gives a 1, batch_size dimension\n",
    "        y_tensor = torch.Tensor(y)\n",
    "\n",
    "        # outputs from the rnn\n",
    "        prediction, hidden = rnn(x_tensor, hidden)\n",
    "\n",
    "        ## Representing Memory ##\n",
    "        # make a new variable for hidden and detach the hidden state from its history\n",
    "        # this way, we don't backpropagate through the entire history\n",
    "        hidden = hidden.data\n",
    "\n",
    "        # calculate the loss\n",
    "        loss = criterion(prediction, y_tensor)\n",
    "        # zero gradients\n",
    "        optimizer.zero_grad()\n",
    "        # perform backprop and update weights\n",
    "        loss.backward()\n",
    "        optimizer.step()\n",
    "\n",
    "        # display loss and predictions\n",
    "        if batch_i%print_every == 0:        \n",
    "            print('Loss: ', loss.item())\n",
    "            plt.plot(time_steps[1:], x, 'r.') # input\n",
    "            plt.plot(time_steps[1:], prediction.data.numpy().flatten(), 'b.') # predictions\n",
    "            plt.show()\n",
    "    \n",
    "    return rnn\n"
   ]
  }
 ],
 "metadata": {
  "kernelspec": {
   "display_name": "Python 3",
   "language": "python",
   "name": "python3"
  },
  "language_info": {
   "codemirror_mode": {
    "name": "ipython",
    "version": 3
   },
   "file_extension": ".py",
   "mimetype": "text/x-python",
   "name": "python",
   "nbconvert_exporter": "python",
   "pygments_lexer": "ipython3",
   "version": "3.9.7"
  }
 },
 "nbformat": 4,
 "nbformat_minor": 5
}
